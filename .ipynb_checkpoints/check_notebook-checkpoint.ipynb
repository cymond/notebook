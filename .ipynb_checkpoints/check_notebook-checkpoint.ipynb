{
 "cells": [
  {
   "cell_type": "code",
   "execution_count": 1,
   "metadata": {},
   "outputs": [
    {
     "name": "stdout",
     "output_type": "stream",
     "text": [
      "Pete\n"
     ]
    }
   ],
   "source": [
    "print(\"Pete\")"
   ]
  },
  {
   "cell_type": "code",
   "execution_count": 0,
   "metadata": {},
   "outputs": [
    {
     "name": "stdout",
     "output_type": "stream",
     "text": [
      "sys.executable:  /home/lope/envs/notebook/bin/python\n"
     ]
    }
   ],
   "source": [
    "import sys,os\n",
    "print(\"sys.executable: \", sys.executable)"
   ]
  },
  {
   "cell_type": "code",
   "execution_count": 3,
   "metadata": {},
   "outputs": [
    {
     "name": "stdout",
     "output_type": "stream",
     "text": [
      "['', '/usr/lib/python35.zip', '/usr/lib/python3.5', '/usr/lib/python3.5/plat-x86_64-linux-gnu', '/usr/lib/python3.5/lib-dynload', '/home/lope/envs/notebook/lib/python3.5/site-packages', '/home/lope/envs/notebook/lib/python3.5/site-packages/setuptools-28.8.0-py3.5.egg', '/home/lope/envs/notebook/lib/python3.5/site-packages/pip-9.0.1-py3.5.egg', '/home/lope/envs/notebook/lib/python3.5/site-packages/IPython/extensions', '/home/lope/.ipython']\n"
     ]
    }
   ],
   "source": [
    "print(sys.path)"
   ]
  },
  {
   "cell_type": "code",
   "execution_count": 4,
   "metadata": {},
   "outputs": [
    {
     "name": "stdout",
     "output_type": "stream",
     "text": [
      "<module 'posixpath' from '/usr/lib/python3.5/posixpath.py'>\n"
     ]
    }
   ],
   "source": [
    "print(os.path)"
   ]
  },
  {
   "cell_type": "code",
   "execution_count": 6,
   "metadata": {},
   "outputs": [
    {
     "name": "stdout",
     "output_type": "stream",
     "text": [
      "/home/lope/PycharmProjects/notebook\n"
     ]
    }
   ],
   "source": [
    "print(os.getcwd())"
   ]
  },
  {
   "cell_type": "code",
   "execution_count": 23,
   "metadata": {
    "scrolled": false
   },
   "outputs": [
    {
     "name": "stdout",
     "output_type": "stream",
     "text": [
      "WHEAT200009.csv\n",
      "WHEAT200012.csv\n",
      "WHEAT200109.csv\n",
      "WHEAT200112.csv\n",
      "WHEAT200209.csv\n",
      "WHEAT200212.csv\n",
      "WHEAT200309.csv\n",
      "WHEAT200312.csv\n",
      "WHEAT200409.csv\n",
      "WHEAT200412.csv\n",
      "WHEAT200509.csv\n",
      "WHEAT200512.csv\n",
      "WHEAT200609.csv\n",
      "WHEAT200612.csv\n",
      "WHEAT200709.csv\n",
      "WHEAT200712.csv\n",
      "WHEAT200809.csv\n",
      "WHEAT200812.csv\n",
      "WHEAT200909.csv\n",
      "WHEAT200912.csv\n",
      "WHEAT201009.csv\n",
      "WHEAT201012.csv\n",
      "WHEAT201109.csv\n",
      "WHEAT201112.csv\n",
      "WHEAT201209.csv\n",
      "WHEAT201212.csv\n",
      "WHEAT201309.csv\n",
      "WHEAT201312.csv\n",
      "WHEAT201409.csv\n",
      "WHEAT201412.csv\n",
      "WHEAT201509.csv\n",
      "WHEAT201512.csv\n",
      "WHEAT201609.csv\n",
      "WHEAT201612.csv\n",
      "WHEAT201709.csv\n",
      "WHEAT201712.csv\n"
     ]
    }
   ],
   "source": [
    "import pandas as pd\n",
    "from os import listdir\n",
    "from os.path import isfile, join\n",
    "from dbutils.connect import *\n",
    "\n",
    "hist_path = \"quandl_history/\"\n",
    "hist_files = [f for f in listdir(\"quandl_history/\") if isfile(join(\"quandl_history/\", f))]\n",
    "hist_file_df = pd.DataFrame(hist_files, columns=['filename'])\n",
    "hist_file_df.sort_values(['filename'],inplace=True)\n",
    "\n",
    "dbmysql = opendb(username=\"root\",password=\"admin\", database=\"pkdemo\", port=3306, host=\"0.0.0.0\")\n",
    "dbmysql.connect()\n",
    "for row in hist_file_df.itertuples():\n",
    "    table = load_csv(db, hist_path + row.filename)\n",
    "    print(row.filename)"
   ]
  },
  {
   "cell_type": "code",
   "execution_count": 1,
   "metadata": {
    "collapsed": true
   },
   "outputs": [],
   "source": [
    "from peewee import *\n",
    "\n",
    "db = SqliteDatabase('people.db')\n",
    "\n",
    "class Person(Model):\n",
    "    name = CharField()\n",
    "    birthday = DateField()\n",
    "    is_relative = BooleanField()\n",
    "\n",
    "    class Meta:\n",
    "        database = db # This model uses the \"people.db\" database.\n"
   ]
  },
  {
   "cell_type": "code",
   "execution_count": 2,
   "metadata": {
    "collapsed": true
   },
   "outputs": [],
   "source": [
    "class Pet(Model):\n",
    "    owner = ForeignKeyField(Person, related_name='pets')\n",
    "    name = CharField()\n",
    "    animal_type = CharField()\n",
    "\n",
    "    class Meta:\n",
    "        database = db # this model uses the \"people.db\" database\n",
    "        "
   ]
  },
  {
   "cell_type": "code",
   "execution_count": 5,
   "metadata": {
    "collapsed": true
   },
   "outputs": [],
   "source": [
    ">>> grandma = Person.select().where(Person.name == 'Grandma L.').get()\n"
   ]
  },
  {
   "cell_type": "code",
   "execution_count": 6,
   "metadata": {},
   "outputs": [
    {
     "data": {
      "text/plain": [
       "<__main__.Person at 0x7fbfb8d21080>"
      ]
     },
     "execution_count": 6,
     "metadata": {},
     "output_type": "execute_result"
    }
   ],
   "source": [
    "grandma"
   ]
  },
  {
   "cell_type": "code",
   "execution_count": 33,
   "metadata": {},
   "outputs": [
    {
     "name": "stdout",
     "output_type": "stream",
     "text": [
      "Help on class SelectQuery in module peewee:\n",
      "\n",
      "class SelectQuery(Query)\n",
      " |  Base class representing a database query on one or more tables.\n",
      " |  \n",
      " |  Method resolution order:\n",
      " |      SelectQuery\n",
      " |      Query\n",
      " |      Node\n",
      " |      builtins.object\n",
      " |  \n",
      " |  Methods defined here:\n",
      " |  \n",
      " |  __and__ = inner(self, other)\n",
      " |  \n",
      " |  __getitem__(self, value)\n",
      " |  \n",
      " |  __hash__(self)\n",
      " |      Return hash(self).\n",
      " |  \n",
      " |  __init__(self, model_class, *selection)\n",
      " |      Initialize self.  See help(type(self)) for accurate signature.\n",
      " |  \n",
      " |  __iter__(self)\n",
      " |  \n",
      " |  __len__(self)\n",
      " |  \n",
      " |  __or__ = inner(self, other)\n",
      " |  \n",
      " |  __sub__ = inner(self, other)\n",
      " |  \n",
      " |  __xor__(self, rhs)\n",
      " |  \n",
      " |  aggregate(self, aggregation=None, convert=True)\n",
      " |  \n",
      " |  aggregate_rows = inner(self, *args, **kwargs)\n",
      " |  \n",
      " |  alias = inner(self, *args, **kwargs)\n",
      " |  \n",
      " |  annotate(self, rel_model, annotation=None)\n",
      " |  \n",
      " |  compound_op(operator)\n",
      " |  \n",
      " |  count(self, clear_limit=False)\n",
      " |  \n",
      " |  dicts = inner(self, *args, **kwargs)\n",
      " |  \n",
      " |  distinct = inner(self, *args, **kwargs)\n",
      " |  \n",
      " |  execute(self)\n",
      " |  \n",
      " |  exists(self)\n",
      " |  \n",
      " |  first(self, n=1)\n",
      " |  \n",
      " |  for_update = inner(self, *args, **kwargs)\n",
      " |  \n",
      " |  from_ = inner(self, *args, **kwargs)\n",
      " |  \n",
      " |  get(self)\n",
      " |  \n",
      " |  get_query_meta(self)\n",
      " |  \n",
      " |  group_by = inner(self, *args, **kwargs)\n",
      " |  \n",
      " |  having = inner(self, *args, **kwargs)\n",
      " |  \n",
      " |  iterator(self)\n",
      " |  \n",
      " |  limit = inner(self, *args, **kwargs)\n",
      " |  \n",
      " |  naive = inner(self, *args, **kwargs)\n",
      " |  \n",
      " |  offset = inner(self, *args, **kwargs)\n",
      " |  \n",
      " |  order_by = inner(self, *args, **kwargs)\n",
      " |  \n",
      " |  paginate = inner(self, *args, **kwargs)\n",
      " |  \n",
      " |  peek(self, n=1)\n",
      " |  \n",
      " |  select = inner(self, *args, **kwargs)\n",
      " |  \n",
      " |  sql(self)\n",
      " |  \n",
      " |  tuples = inner(self, *args, **kwargs)\n",
      " |  \n",
      " |  union_all(self, rhs)\n",
      " |  \n",
      " |  verify_naive(self)\n",
      " |  \n",
      " |  window = inner(self, *args, **kwargs)\n",
      " |  \n",
      " |  with_lock = inner(self, *args, **kwargs)\n",
      " |  \n",
      " |  wrapped_count(self, clear_limit=False)\n",
      " |  \n",
      " |  ----------------------------------------------------------------------\n",
      " |  Methods inherited from Query:\n",
      " |  \n",
      " |  __repr__(self)\n",
      " |      Return repr(self).\n",
      " |  \n",
      " |  clone(self)\n",
      " |  \n",
      " |  compiler(self)\n",
      " |  \n",
      " |  convert_dict_to_node(self, qdict)\n",
      " |  \n",
      " |  ensure_join(self, lm, rm, on=None, **join_kwargs)\n",
      " |  \n",
      " |  filter(self, *args, **kwargs)\n",
      " |  \n",
      " |  join = inner(self, *args, **kwargs)\n",
      " |  \n",
      " |  orwhere = inner(self, *args, **kwargs)\n",
      " |  \n",
      " |  scalar(self, as_tuple=False, convert=False)\n",
      " |  \n",
      " |  switch = inner(self, *args, **kwargs)\n",
      " |  \n",
      " |  where = inner(self, *args, **kwargs)\n",
      " |  \n",
      " |  ----------------------------------------------------------------------\n",
      " |  Data and other attributes inherited from Query:\n",
      " |  \n",
      " |  require_commit = True\n",
      " |  \n",
      " |  ----------------------------------------------------------------------\n",
      " |  Methods inherited from Node:\n",
      " |  \n",
      " |  __add__ = inner(self, rhs)\n",
      " |  \n",
      " |  __div__ = inner(self, rhs)\n",
      " |  \n",
      " |  __eq__(self, rhs)\n",
      " |      Return self==value.\n",
      " |  \n",
      " |  __ge__ = inner(self, rhs)\n",
      " |  \n",
      " |  __gt__ = inner(self, rhs)\n",
      " |  \n",
      " |  __invert__ = inner(self, *args, **kwargs)\n",
      " |  \n",
      " |  __le__ = inner(self, rhs)\n",
      " |  \n",
      " |  __lshift__ = inner(self, rhs)\n",
      " |  \n",
      " |  __lt__ = inner(self, rhs)\n",
      " |  \n",
      " |  __mod__ = inner(self, rhs)\n",
      " |  \n",
      " |  __mul__ = inner(self, rhs)\n",
      " |  \n",
      " |  __ne__(self, rhs)\n",
      " |      Return self!=value.\n",
      " |  \n",
      " |  __neg__(self)\n",
      " |  \n",
      " |  __pos__(self)\n",
      " |  \n",
      " |  __pow__ = inner(self, rhs)\n",
      " |  \n",
      " |  __radd__ = inner(self, rhs)\n",
      " |  \n",
      " |  __rand__ = inner(self, rhs)\n",
      " |  \n",
      " |  __rdiv__ = inner(self, rhs)\n",
      " |  \n",
      " |  __rmul__ = inner(self, rhs)\n",
      " |  \n",
      " |  __ror__ = inner(self, rhs)\n",
      " |  \n",
      " |  __rshift__ = inner(self, rhs)\n",
      " |  \n",
      " |  __rsub__ = inner(self, rhs)\n",
      " |  \n",
      " |  __rtruediv__ = inner(self, rhs)\n",
      " |  \n",
      " |  __rxor__ = inner(self, rhs)\n",
      " |  \n",
      " |  __truediv__ = inner(self, rhs)\n",
      " |  \n",
      " |  asc = inner(self, *args, **kwargs)\n",
      " |  \n",
      " |  between(self, low, high)\n",
      " |  \n",
      " |  bin_and = inner(self, rhs)\n",
      " |  \n",
      " |  bin_or = inner(self, rhs)\n",
      " |  \n",
      " |  bind_to = inner(self, *args, **kwargs)\n",
      " |  \n",
      " |  c = <peewee._CDescriptor object>\n",
      " |  clone_base(self)\n",
      " |  \n",
      " |  concat(self, rhs)\n",
      " |  \n",
      " |  contains(self, rhs)\n",
      " |  \n",
      " |  desc = inner(self, *args, **kwargs)\n",
      " |  \n",
      " |  endswith(self, rhs)\n",
      " |  \n",
      " |  in_(self, rhs)\n",
      " |      # Special expressions.\n",
      " |  \n",
      " |  is_null(self, is_null=True)\n",
      " |  \n",
      " |  not_in(self, rhs)\n",
      " |  \n",
      " |  regexp(self, expression)\n",
      " |  \n",
      " |  startswith(self, rhs)\n",
      " |  \n",
      " |  ----------------------------------------------------------------------\n",
      " |  Class methods inherited from Node:\n",
      " |  \n",
      " |  extend(name=None, clone=False) from builtins.type\n",
      " |  \n",
      " |  ----------------------------------------------------------------------\n",
      " |  Data descriptors inherited from Node:\n",
      " |  \n",
      " |  __dict__\n",
      " |      dictionary for instance variables (if defined)\n",
      " |  \n",
      " |  __weakref__\n",
      " |      list of weak references to the object (if defined)\n",
      "\n"
     ]
    }
   ],
   "source": [
    "help(pw.SelectQuery)"
   ]
  },
  {
   "cell_type": "code",
   "execution_count": 30,
   "metadata": {},
   "outputs": [
    {
     "data": {
      "text/plain": [
       "peewee.SelectQuery"
      ]
     },
     "execution_count": 30,
     "metadata": {},
     "output_type": "execute_result"
    }
   ],
   "source": [
    "type(Person.select())"
   ]
  },
  {
   "cell_type": "code",
   "execution_count": 11,
   "metadata": {},
   "outputs": [
    {
     "data": {
      "text/plain": [
       "mappingproxy({'DoesNotExist': __main__.PersonDoesNotExist,\n",
       "              '__doc__': None,\n",
       "              '__module__': '__main__',\n",
       "              '_data': None,\n",
       "              '_meta': <ModelOptions: person>,\n",
       "              'birthday': <peewee.FieldDescriptor at 0x7fbfc04d1630>,\n",
       "              'id': <peewee.FieldDescriptor at 0x7fbfc04d1a58>,\n",
       "              'is_relative': <peewee.FieldDescriptor at 0x7fbfc04e4c18>,\n",
       "              'name': <peewee.FieldDescriptor at 0x7fbfc04d7be0>,\n",
       "              'pets': <peewee.ReverseRelationDescriptor at 0x7fbfc04372b0>})"
      ]
     },
     "execution_count": 11,
     "metadata": {},
     "output_type": "execute_result"
    }
   ],
   "source": [
    "Person.__dict__"
   ]
  },
  {
   "cell_type": "code",
   "execution_count": 18,
   "metadata": {},
   "outputs": [
    {
     "name": "stdout",
     "output_type": "stream",
     "text": [
      "Bob True\n",
      "Grandma L. True\n",
      "Herb False\n"
     ]
    }
   ],
   "source": [
    ">>> for person in Person.select():\n",
    "...     print(person.name, person.is_relative)"
   ]
  },
  {
   "cell_type": "code",
   "execution_count": 24,
   "metadata": {
    "collapsed": true
   },
   "outputs": [],
   "source": [
    "from peewee import *\n",
    "\n",
    "\n",
    "class Person(Model):\n",
    "    name = CharField()\n",
    "    birthday = DateField()\n",
    "    is_relative = BooleanField()\n",
    "\n",
    "    class Meta:\n",
    "        database = db # This model uses the \"people.db\" database.\n"
   ]
  },
  {
   "cell_type": "code",
   "execution_count": 27,
   "metadata": {},
   "outputs": [
    {
     "name": "stdout",
     "output_type": "stream",
     "text": [
      "Help on function load_csv in module playhouse.csv_utils:\n",
      "\n",
      "load_csv(db_or_model, file_or_name, fields=None, field_names=None, has_header=True, sample_size=10, converter=None, db_table=None, pk_in_csv=False, **reader_kwargs)\n",
      "    Load the contents of a CSV file into a database and return a model class\n",
      "    suitable for working with the CSV data.\n",
      "    \n",
      "    :param db_or_model: a peewee Database instance or a Model class.\n",
      "    :param file_or_name: the filename of the CSV file *or* a file handle.\n",
      "    :param list fields: A list of peewee Field() instances appropriate to\n",
      "        the values in the CSV file.\n",
      "    :param list field_names: A list of names to use for the fields.\n",
      "    :param bool has_header: Whether the first row of the CSV file is a header.\n",
      "    :param int sample_size: Number of rows to introspect if fields are not\n",
      "        defined.\n",
      "    :param converter: A RowConverter instance to use.\n",
      "    :param str db_table: Name of table to store data in (if not specified, the\n",
      "        table name will be derived from the CSV filename).\n",
      "    :param reader_kwargs: Arbitrary arguments to pass to the CSV reader.\n",
      "\n"
     ]
    }
   ],
   "source": [
    "help(load_csv)"
   ]
  },
  {
   "cell_type": "code",
   "execution_count": 45,
   "metadata": {
    "scrolled": true
   },
   "outputs": [
    {
     "name": "stderr",
     "output_type": "stream",
     "text": [
      "/home/lope/envs/notebook/lib/python3.5/site-packages/pymysql/cursors.py:166: Warning: (1265, \"Data truncated for column 'open' at row 1\")\n",
      "  result = self._query(query)\n",
      "/home/lope/envs/notebook/lib/python3.5/site-packages/pymysql/cursors.py:166: Warning: (1265, \"Data truncated for column 'high' at row 1\")\n",
      "  result = self._query(query)\n",
      "/home/lope/envs/notebook/lib/python3.5/site-packages/pymysql/cursors.py:166: Warning: (1265, \"Data truncated for column 'low' at row 1\")\n",
      "  result = self._query(query)\n",
      "/home/lope/envs/notebook/lib/python3.5/site-packages/pymysql/cursors.py:166: Warning: (1265, \"Data truncated for column 'last' at row 1\")\n",
      "  result = self._query(query)\n"
     ]
    }
   ],
   "source": [
    "class RawContract(Model):\n",
    "    datetime = DateField()\n",
    "    open = FloatField()\n",
    "    low = FloatField()\n",
    "    high = FloatField()\n",
    "    close = FloatField()\n",
    "\n",
    "    class Meta:\n",
    "        database = dbmysql # This model uses \n",
    "\n",
    "csv_file = \"quandl_history/WHEAT201712.csv\"        \n",
    "table = load_csv(dbmysql, csv_file)"
   ]
  },
  {
   "cell_type": "code",
   "execution_count": null,
   "metadata": {
    "collapsed": true
   },
   "outputs": [],
   "source": []
  }
 ],
 "metadata": {
  "kernelspec": {
   "display_name": "Python 3",
   "language": "python",
   "name": "python3"
  },
  "language_info": {
   "codemirror_mode": {
    "name": "ipython",
    "version": 3
   },
   "file_extension": ".py",
   "mimetype": "text/x-python",
   "name": "python",
   "nbconvert_exporter": "python",
   "pygments_lexer": "ipython3",
   "version": "3.5.2"
  }
 },
 "nbformat": 4,
 "nbformat_minor": 1
}
