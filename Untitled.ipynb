{
 "cells": [
  {
   "cell_type": "code",
   "execution_count": 5,
   "metadata": {},
   "outputs": [
    {
     "name": "stdout",
     "output_type": "stream",
     "text": [
      "systemd-timesync:x:100:102:systemd Time Synchronization,,,:/run/systemd:/bin/false\n",
      "systemd-timesync:x:100:102:systemd Time Synchronization,,,:/run/systemd:/bin/false\n",
      "systemd-timesync:x:100:102:systemd Time Synchronization,,,:/run/systemd:/bin/false\n",
      "systemd-timesync:x:100:102:systemd Time Synchronization,,,:/run/systemd:/bin/false\n",
      "systemd-timesync:x:100:102:systemd Time Synchronization,,,:/run/systemd:/bin/false\n",
      "systemd-timesync:x:100:102:systemd Time Synchronization,,,:/run/systemd:/bin/false\n",
      "--------------------\n",
      "systemd-network:x:101:103:systemd Network Management,,,:/run/systemd/netif:/bin/false\n",
      "systemd-network:x:101:103:systemd Network Management,,,:/run/systemd/netif:/bin/false\n",
      "systemd-network:x:101:103:systemd Network Management,,,:/run/systemd/netif:/bin/false\n",
      "systemd-network:x:101:103:systemd Network Management,,,:/run/systemd/netif:/bin/false\n",
      "systemd-network:x:101:103:systemd Network Management,,,:/run/systemd/netif:/bin/false\n",
      "systemd-network:x:101:103:systemd Network Management,,,:/run/systemd/netif:/bin/false\n",
      "--------------------\n",
      "systemd-resolve:x:102:104:systemd Resolver,,,:/run/systemd/resolve:/bin/false\n",
      "systemd-resolve:x:102:104:systemd Resolver,,,:/run/systemd/resolve:/bin/false\n",
      "systemd-resolve:x:102:104:systemd Resolver,,,:/run/systemd/resolve:/bin/false\n",
      "systemd-resolve:x:102:104:systemd Resolver,,,:/run/systemd/resolve:/bin/false\n",
      "systemd-resolve:x:102:104:systemd Resolver,,,:/run/systemd/resolve:/bin/false\n",
      "systemd-resolve:x:102:104:systemd Resolver,,,:/run/systemd/resolve:/bin/false\n",
      "--------------------\n",
      "systemd-bus-proxy:x:103:105:systemd Bus Proxy,,,:/run/systemd:/bin/false\n",
      "systemd-bus-proxy:x:103:105:systemd Bus Proxy,,,:/run/systemd:/bin/false\n",
      "systemd-bus-proxy:x:103:105:systemd Bus Proxy,,,:/run/systemd:/bin/false\n",
      "systemd-bus-proxy:x:103:105:systemd Bus Proxy,,,:/run/systemd:/bin/false\n",
      "systemd-bus-proxy:x:103:105:systemd Bus Proxy,,,:/run/systemd:/bin/false\n",
      "systemd-bus-proxy:x:103:105:systemd Bus Proxy,,,:/run/systemd:/bin/false\n",
      "--------------------\n",
      "syslog:x:104:108::/home/syslog:/bin/false\n",
      "syslog:x:104:108::/home/syslog:/bin/false\n",
      "syslog:x:104:108::/home/syslog:/bin/false\n",
      "syslog:x:104:108::/home/syslog:/bin/false\n",
      "syslog:x:104:108::/home/syslog:/bin/false\n",
      "syslog:x:104:108::/home/syslog:/bin/false\n",
      "--------------------\n",
      "_apt:x:105:65534::/nonexistent:/bin/false\n",
      "_apt:x:105:65534::/nonexistent:/bin/false\n",
      "_apt:x:105:65534::/nonexistent:/bin/false\n",
      "_apt:x:105:65534::/nonexistent:/bin/false\n",
      "_apt:x:105:65534::/nonexistent:/bin/false\n",
      "_apt:x:105:65534::/nonexistent:/bin/false\n",
      "--------------------\n",
      "messagebus:x:106:110::/var/run/dbus:/bin/false\n",
      "messagebus:x:106:110::/var/run/dbus:/bin/false\n",
      "messagebus:x:106:110::/var/run/dbus:/bin/false\n",
      "messagebus:x:106:110::/var/run/dbus:/bin/false\n",
      "messagebus:x:106:110::/var/run/dbus:/bin/false\n",
      "messagebus:x:106:110::/var/run/dbus:/bin/false\n",
      "--------------------\n",
      "uuidd:x:107:111::/run/uuidd:/bin/false\n",
      "uuidd:x:107:111::/run/uuidd:/bin/false\n",
      "uuidd:x:107:111::/run/uuidd:/bin/false\n",
      "uuidd:x:107:111::/run/uuidd:/bin/false\n",
      "uuidd:x:107:111::/run/uuidd:/bin/false\n",
      "uuidd:x:107:111::/run/uuidd:/bin/false\n",
      "--------------------\n",
      "ntp:x:108:114::/home/ntp:/bin/false\n",
      "ntp:x:108:114::/home/ntp:/bin/false\n",
      "ntp:x:108:114::/home/ntp:/bin/false\n",
      "ntp:x:108:114::/home/ntp:/bin/false\n",
      "ntp:x:108:114::/home/ntp:/bin/false\n",
      "ntp:x:108:114::/home/ntp:/bin/false\n",
      "--------------------\n",
      "avahi-autoipd:x:109:117:Avahi autoip daemon,,,:/var/lib/avahi-autoipd:/bin/false\n",
      "avahi-autoipd:x:109:117:Avahi autoip daemon,,,:/var/lib/avahi-autoipd:/bin/false\n",
      "avahi-autoipd:x:109:117:Avahi autoip daemon,,,:/var/lib/avahi-autoipd:/bin/false\n",
      "avahi-autoipd:x:109:117:Avahi autoip daemon,,,:/var/lib/avahi-autoipd:/bin/false\n",
      "avahi-autoipd:x:109:117:Avahi autoip daemon,,,:/var/lib/avahi-autoipd:/bin/false\n",
      "avahi-autoipd:x:109:117:Avahi autoip daemon,,,:/var/lib/avahi-autoipd:/bin/false\n",
      "--------------------\n",
      "avahi:x:110:118:Avahi mDNS daemon,,,:/var/run/avahi-daemon:/bin/false\n",
      "avahi:x:110:118:Avahi mDNS daemon,,,:/var/run/avahi-daemon:/bin/false\n",
      "avahi:x:110:118:Avahi mDNS daemon,,,:/var/run/avahi-daemon:/bin/false\n",
      "avahi:x:110:118:Avahi mDNS daemon,,,:/var/run/avahi-daemon:/bin/false\n",
      "avahi:x:110:118:Avahi mDNS daemon,,,:/var/run/avahi-daemon:/bin/false\n",
      "avahi:x:110:118:Avahi mDNS daemon,,,:/var/run/avahi-daemon:/bin/false\n",
      "--------------------\n",
      "dnsmasq:x:111:65534:dnsmasq,,,:/var/lib/misc:/bin/false\n",
      "dnsmasq:x:111:65534:dnsmasq,,,:/var/lib/misc:/bin/false\n",
      "dnsmasq:x:111:65534:dnsmasq,,,:/var/lib/misc:/bin/false\n",
      "dnsmasq:x:111:65534:dnsmasq,,,:/var/lib/misc:/bin/false\n",
      "dnsmasq:x:111:65534:dnsmasq,,,:/var/lib/misc:/bin/false\n",
      "dnsmasq:x:111:65534:dnsmasq,,,:/var/lib/misc:/bin/false\n",
      "--------------------\n",
      "colord:x:112:121:colord colour management daemon,,,:/var/lib/colord:/bin/false\n",
      "colord:x:112:121:colord colour management daemon,,,:/var/lib/colord:/bin/false\n",
      "colord:x:112:121:colord colour management daemon,,,:/var/lib/colord:/bin/false\n",
      "colord:x:112:121:colord colour management daemon,,,:/var/lib/colord:/bin/false\n",
      "colord:x:112:121:colord colour management daemon,,,:/var/lib/colord:/bin/false\n",
      "colord:x:112:121:colord colour management daemon,,,:/var/lib/colord:/bin/false\n",
      "--------------------\n",
      "speech-dispatcher:x:113:29:Speech Dispatcher,,,:/var/run/speech-dispatcher:/bin/false\n",
      "speech-dispatcher:x:113:29:Speech Dispatcher,,,:/var/run/speech-dispatcher:/bin/false\n",
      "speech-dispatcher:x:113:29:Speech Dispatcher,,,:/var/run/speech-dispatcher:/bin/false\n",
      "speech-dispatcher:x:113:29:Speech Dispatcher,,,:/var/run/speech-dispatcher:/bin/false\n",
      "speech-dispatcher:x:113:29:Speech Dispatcher,,,:/var/run/speech-dispatcher:/bin/false\n",
      "speech-dispatcher:x:113:29:Speech Dispatcher,,,:/var/run/speech-dispatcher:/bin/false\n",
      "--------------------\n",
      "hplip:x:114:7:HPLIP system user,,,:/var/run/hplip:/bin/false\n",
      "hplip:x:114:7:HPLIP system user,,,:/var/run/hplip:/bin/false\n",
      "hplip:x:114:7:HPLIP system user,,,:/var/run/hplip:/bin/false\n",
      "hplip:x:114:7:HPLIP system user,,,:/var/run/hplip:/bin/false\n",
      "hplip:x:114:7:HPLIP system user,,,:/var/run/hplip:/bin/false\n",
      "hplip:x:114:7:HPLIP system user,,,:/var/run/hplip:/bin/false\n",
      "--------------------\n",
      "kernoops:x:115:65534:Kernel Oops Tracking Daemon,,,:/:/bin/false\n",
      "kernoops:x:115:65534:Kernel Oops Tracking Daemon,,,:/:/bin/false\n",
      "kernoops:x:115:65534:Kernel Oops Tracking Daemon,,,:/:/bin/false\n",
      "kernoops:x:115:65534:Kernel Oops Tracking Daemon,,,:/:/bin/false\n",
      "kernoops:x:115:65534:Kernel Oops Tracking Daemon,,,:/:/bin/false\n",
      "kernoops:x:115:65534:Kernel Oops Tracking Daemon,,,:/:/bin/false\n",
      "--------------------\n",
      "pulse:x:116:122:PulseAudio daemon,,,:/var/run/pulse:/bin/false\n",
      "pulse:x:116:122:PulseAudio daemon,,,:/var/run/pulse:/bin/false\n",
      "pulse:x:116:122:PulseAudio daemon,,,:/var/run/pulse:/bin/false\n",
      "pulse:x:116:122:PulseAudio daemon,,,:/var/run/pulse:/bin/false\n",
      "pulse:x:116:122:PulseAudio daemon,,,:/var/run/pulse:/bin/false\n",
      "pulse:x:116:122:PulseAudio daemon,,,:/var/run/pulse:/bin/false\n",
      "--------------------\n",
      "mdm:x:117:124:MDM Display Manager:/var/lib/mdm:/bin/false\n",
      "mdm:x:117:124:MDM Display Manager:/var/lib/mdm:/bin/false\n",
      "mdm:x:117:124:MDM Display Manager:/var/lib/mdm:/bin/false\n",
      "mdm:x:117:124:MDM Display Manager:/var/lib/mdm:/bin/false\n",
      "mdm:x:117:124:MDM Display Manager:/var/lib/mdm:/bin/false\n",
      "mdm:x:117:124:MDM Display Manager:/var/lib/mdm:/bin/false\n",
      "--------------------\n",
      "nm-openvpn:x:118:126:NetworkManager OpenVPN,,,:/var/lib/openvpn/chroot:/bin/false\n",
      "nm-openvpn:x:118:126:NetworkManager OpenVPN,,,:/var/lib/openvpn/chroot:/bin/false\n",
      "nm-openvpn:x:118:126:NetworkManager OpenVPN,,,:/var/lib/openvpn/chroot:/bin/false\n",
      "nm-openvpn:x:118:126:NetworkManager OpenVPN,,,:/var/lib/openvpn/chroot:/bin/false\n",
      "nm-openvpn:x:118:126:NetworkManager OpenVPN,,,:/var/lib/openvpn/chroot:/bin/false\n",
      "nm-openvpn:x:118:126:NetworkManager OpenVPN,,,:/var/lib/openvpn/chroot:/bin/false\n",
      "--------------------\n",
      "rtkit:x:119:127:RealtimeKit,,,:/proc:/bin/false\n",
      "rtkit:x:119:127:RealtimeKit,,,:/proc:/bin/false\n",
      "rtkit:x:119:127:RealtimeKit,,,:/proc:/bin/false\n",
      "rtkit:x:119:127:RealtimeKit,,,:/proc:/bin/false\n",
      "rtkit:x:119:127:RealtimeKit,,,:/proc:/bin/false\n",
      "rtkit:x:119:127:RealtimeKit,,,:/proc:/bin/false\n",
      "--------------------\n",
      "saned:x:120:128::/var/lib/saned:/bin/false\n",
      "saned:x:120:128::/var/lib/saned:/bin/false\n",
      "saned:x:120:128::/var/lib/saned:/bin/false\n",
      "saned:x:120:128::/var/lib/saned:/bin/false\n",
      "saned:x:120:128::/var/lib/saned:/bin/false\n",
      "saned:x:120:128::/var/lib/saned:/bin/false\n",
      "--------------------\n",
      "usbmux:x:121:46:usbmux daemon,,,:/var/lib/usbmux:/bin/false\n",
      "usbmux:x:121:46:usbmux daemon,,,:/var/lib/usbmux:/bin/false\n",
      "usbmux:x:121:46:usbmux daemon,,,:/var/lib/usbmux:/bin/false\n",
      "usbmux:x:121:46:usbmux daemon,,,:/var/lib/usbmux:/bin/false\n",
      "usbmux:x:121:46:usbmux daemon,,,:/var/lib/usbmux:/bin/false\n",
      "usbmux:x:121:46:usbmux daemon,,,:/var/lib/usbmux:/bin/false\n",
      "--------------------\n"
     ]
    }
   ],
   "source": [
    "from collections import deque\n",
    "def search(lines, pattern, history=5):\n",
    "    previous_lines = deque(maxlen=history)\n",
    "    for line in lines:\n",
    "        if pattern in line:\n",
    "            yield line, previous_lines\n",
    "        previous_lines.append(line)\n",
    "        \n",
    "if __name__ == '__main__':\n",
    "    with open('/etc/passwd') as f:\n",
    "        for line, prevlines in search(f, 'false', 5):\n",
    "            for pline in prevlines:\n",
    "                print(line, end='')\n",
    "            print(line, end='')\n",
    "            print('-'*20)"
   ]
  },
  {
   "cell_type": "code",
   "execution_count": 6,
   "metadata": {},
   "outputs": [
    {
     "name": "stdout",
     "output_type": "stream",
     "text": [
      "0\n",
      "1\n",
      "4\n"
     ]
    }
   ],
   "source": [
    ">>> mylist = [x*x for x in range(3)]\n",
    ">>> for i in mylist:\n",
    "...    print(i)"
   ]
  },
  {
   "cell_type": "code",
   "execution_count": 7,
   "metadata": {},
   "outputs": [
    {
     "name": "stdout",
     "output_type": "stream",
     "text": [
      "range(0, 5)\n"
     ]
    }
   ],
   "source": [
    "print(range(5))"
   ]
  },
  {
   "cell_type": "code",
   "execution_count": 9,
   "metadata": {},
   "outputs": [
    {
     "name": "stdout",
     "output_type": "stream",
     "text": [
      "0\n",
      "1\n",
      "2\n",
      "3\n",
      "4\n"
     ]
    }
   ],
   "source": [
    "for i in range(0,5):\n",
    "    print(i)"
   ]
  },
  {
   "cell_type": "code",
   "execution_count": 13,
   "metadata": {},
   "outputs": [
    {
     "name": "stdout",
     "output_type": "stream",
     "text": [
      "0\n",
      "1\n",
      "4\n"
     ]
    }
   ],
   "source": [
    ">>> mygenerator = (x*x for x in range(3))\n",
    ">>> for i in mygenerator:\n",
    "...    print(i)"
   ]
  },
  {
   "cell_type": "code",
   "execution_count": 12,
   "metadata": {
    "collapsed": true
   },
   "outputs": [],
   "source": [
    ">>> for i in mygenerator:\n",
    "...    print(i)"
   ]
  },
  {
   "cell_type": "code",
   "execution_count": 15,
   "metadata": {},
   "outputs": [
    {
     "name": "stdout",
     "output_type": "stream",
     "text": [
      "0\n",
      "1\n",
      "4\n"
     ]
    }
   ],
   "source": [
    ">>> mylist = [x*x for x in range(3)]\n",
    ">>> for i in mylist:\n",
    "...    print(i)"
   ]
  },
  {
   "cell_type": "code",
   "execution_count": 17,
   "metadata": {},
   "outputs": [
    {
     "ename": "TypeError",
     "evalue": "'int' object is not callable",
     "traceback": [
      "\u001b[0;31m---------------------------------------------------------------------------\u001b[0m",
      "\u001b[0;31mTypeError\u001b[0m                                 Traceback (most recent call last)",
      "\u001b[0;32m<ipython-input-17-7f3da5e788c8>\u001b[0m in \u001b[0;36m<module>\u001b[0;34m()\u001b[0m\n\u001b[0;32m----> 1\u001b[0;31m \u001b[0mi\u001b[0m\u001b[0;34m(\u001b[0m\u001b[0;36m1\u001b[0m\u001b[0;34m)\u001b[0m\u001b[0;34m\u001b[0m\u001b[0m\n\u001b[0m",
      "\u001b[0;31mTypeError\u001b[0m: 'int' object is not callable"
     ],
     "output_type": "error"
    }
   ],
   "source": [
    "i(1)"
   ]
  },
  {
   "cell_type": "code",
   "execution_count": 18,
   "metadata": {},
   "outputs": [
    {
     "name": "stdout",
     "output_type": "stream",
     "text": [
      "second\n",
      "first\n",
      "that's it\n"
     ]
    },
    {
     "data": {
      "text/plain": [
       "<__main__.Third at 0x7f360c11bfd0>"
      ]
     },
     "execution_count": 18,
     "metadata": {},
     "output_type": "execute_result"
    }
   ],
   "source": [
    "class First(object):\n",
    "  def __init__(self):\n",
    "    super(First, self).__init__()\n",
    "    print(\"first\")\n",
    "\n",
    "class Second(object):\n",
    "  def __init__(self):\n",
    "    super(Second, self).__init__()\n",
    "    print(\"second\")\n",
    "\n",
    "class Third(First, Second):\n",
    "  def __init__(self):\n",
    "    super(Third, self).__init__()\n",
    "    print(\"that's it\")\n",
    "    \n",
    "Third()"
   ]
  },
  {
   "cell_type": "code",
   "execution_count": null,
   "metadata": {
    "collapsed": true
   },
   "outputs": [],
   "source": [
    ""
   ]
  }
 ],
 "metadata": {
  "kernelspec": {
   "display_name": "Python 3",
   "language": "python",
   "name": "python3"
  },
  "language_info": {
   "codemirror_mode": {
    "name": "ipython",
    "version": 3.0
   },
   "file_extension": ".py",
   "mimetype": "text/x-python",
   "name": "python",
   "nbconvert_exporter": "python",
   "pygments_lexer": "ipython3",
   "version": "3.5.2"
  }
 },
 "nbformat": 4,
 "nbformat_minor": 0
}