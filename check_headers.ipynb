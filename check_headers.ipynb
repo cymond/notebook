{
 "cells": [
  {
   "cell_type": "code",
   "execution_count": 34,
   "metadata": {
    "collapsed": true
   },
   "outputs": [
    {
     "name": "stdout",
     "output_type": "stream",
     "text": [
      "VIX201406.csv :  Index(['Trade Date', 'Open', 'High', 'Low', 'Close', 'Settle', 'Change',\n       'Total Volume', 'EFP', 'Prev. Day Open Interest'],\n      dtype='object')\n"
     ]
    },
    {
     "name": "stdout",
     "output_type": "stream",
     "text": [
      "KOSPI201612.csv :  Index(['Date', 'Current Price', 'Change', 'Open', 'High', 'Low',\n       'Trading Volume', 'Open Interest'],\n      dtype='object')\nVIX201701.csv :  Index(['Trade Date', 'Open', 'High', 'Low', 'Close', 'Settle', 'Change',\n       'Total Volume', 'EFP', 'Prev. Day Open Interest'],\n      dtype='object')\nVIX201301.csv :  Index(['Trade Date', 'Open', 'High', 'Low', 'Close', 'Settle', 'Change',\n       'Total Volume', 'EFP', 'Prev. Day Open Interest'],\n      dtype='object')\n"
     ]
    },
    {
     "name": "stdout",
     "output_type": "stream",
     "text": [
      "VIX201501.csv :  Index(['Trade Date', 'Open', 'High', 'Low', 'Close', 'Settle', 'Change',\n       'Total Volume', 'EFP', 'Prev. Day Open Interest'],\n      dtype='object')\n"
     ]
    },
    {
     "name": "stdout",
     "output_type": "stream",
     "text": [
      "VIX201010.csv :  Index(['Trade Date', 'Open', 'High', 'Low', 'Close', 'Settle', 'Change',\n       'Total Volume', 'EFP', 'Prev. Day Open Interest'],\n      dtype='object')\nVIX201201.csv :  Index(['Trade Date', 'Open', 'High', 'Low', 'Close', 'Settle', 'Change',\n       'Total Volume', 'EFP', 'Prev. Day Open Interest'],\n      dtype='object')\nVIX201009.csv :  Index(['Trade Date', 'Open', 'High', 'Low', 'Close', 'Settle', 'Change',\n       'Total Volume', 'EFP', 'Prev. Day Open Interest'],\n      dtype='object')\nVIX201203.csv :  Index(['Trade Date', 'Open', 'High', 'Low', 'Close', 'Settle', 'Change',\n       'Total Volume', 'EFP', 'Prev. Day Open Interest'],\n      dtype='object')\n"
     ]
    },
    {
     "name": "stdout",
     "output_type": "stream",
     "text": [
      "VIX201302.csv :  Index(['Trade Date', 'Open', 'High', 'Low', 'Close', 'Settle', 'Change',\n       'Total Volume', 'EFP', 'Prev. Day Open Interest'],\n      dtype='object')\nVIX201504.csv :  Index(['Trade Date', 'Open', 'High', 'Low', 'Close', 'Settle', 'Change',\n       'Total Volume', 'EFP', 'Prev. Day Open Interest'],\n      dtype='object')\nVIX201005.csv :  Index(['Trade Date', 'Open', 'High', 'Low', 'Close', 'Settle', 'Change',\n       'Total Volume', 'EFP', 'Prev. Day Open Interest'],\n      dtype='object')\n"
     ]
    },
    {
     "name": "stdout",
     "output_type": "stream",
     "text": [
      "VIX201609.csv :  Index(['Trade Date', 'Open', 'High', 'Low', 'Close', 'Settle', 'Change',\n       'Total Volume', 'EFP', 'Prev. Day Open Interest'],\n      dtype='object')\nVIX201001.csv :  Index(['Trade Date', 'Open', 'High', 'Low', 'Close', 'Settle', 'Change',\n       'Total Volume', 'EFP', 'Prev. Day Open Interest'],\n      dtype='object')\nVIX201610.csv :  Index(['Trade Date', 'Open', 'High', 'Low', 'Close', 'Settle', 'Change',\n       'Total Volume', 'EFP', 'Prev. Day Open Interest'],\n      dtype='object')\nVIX201303.csv :  Index(['Trade Date', 'Open', 'High', 'Low', 'Close', 'Settle', 'Change',\n       'Total Volume', 'EFP', 'Prev. Day Open Interest'],\n      dtype='object')\nVIX201111.csv :  Index(['Trade Date', 'Open', 'High', 'Low', 'Close', 'Settle', 'Change',\n       'Total Volume', 'EFP', 'Prev. Day Open Interest'],\n      dtype='object')\nVIX201204.csv :  Index(['Trade Date', 'Open', 'High', 'Low', 'Close', 'Settle', 'Change',\n       'Total Volume', 'EFP', 'Prev. Day Open Interest'],\n      dtype='object')\nVIX200810.csv :  Index(['Trade Date', 'Open', 'High', 'Low', 'Close', 'Settle', 'Change',\n       'Total Volume', 'EFP', 'Prev. Day Open Interest'],\n      dtype='object')\n"
     ]
    },
    {
     "name": "stdout",
     "output_type": "stream",
     "text": [
      "VIX200903.csv :  Index(['Trade Date', 'Open', 'High', 'Low', 'Close', 'Settle', 'Change',\n       'Total Volume', 'EFP', 'Prev. Day Open Interest'],\n      dtype='object')\nVIX201206.csv :  Index(['Trade Date', 'Open', 'High', 'Low', 'Close', 'Settle', 'Change',\n       'Total Volume', 'EFP', 'Prev. Day Open Interest'],\n      dtype='object')\nVIX201608.csv :  Index(['Trade Date', 'Open', 'High', 'Low', 'Close', 'Settle', 'Change',\n       'Total Volume', 'EFP', 'Prev. Day Open Interest'],\n      dtype='object')\nVIX201207.csv :  Index(['Trade Date', 'Open', 'High', 'Low', 'Close', 'Settle', 'Change',\n       'Total Volume', 'EFP', 'Prev. Day Open Interest'],\n      dtype='object')\n"
     ]
    },
    {
     "name": "stdout",
     "output_type": "stream",
     "text": [
      "VIX201403.csv :  Index(['Trade Date', 'Open', 'High', 'Low', 'Close', 'Settle', 'Change',\n       'Total Volume', 'EFP', 'Prev. Day Open Interest'],\n      dtype='object')\nVIX201002.csv :  Index(['Trade Date', 'Open', 'High', 'Low', 'Close', 'Settle', 'Change',\n       'Total Volume', 'EFP', 'Prev. Day Open Interest'],\n      dtype='object')\nVIX201507.csv :  Index(['Trade Date', 'Open', 'High', 'Low', 'Close', 'Settle', 'Change',\n       'Total Volume', 'EFP', 'Prev. Day Open Interest'],\n      dtype='object')\nVIX200908.csv :  Index(['Trade Date', 'Open', 'High', 'Low', 'Close', 'Settle', 'Change',\n       'Total Volume', 'EFP', 'Prev. Day Open Interest'],\n      dtype='object')\nKR10201706.csv :  Index(['Date', 'Current Price', 'Change', 'Open', 'High', 'Low',\n       'Trading Volume', 'Open Interest'],\n      dtype='object')\nVIX201109.csv :  Index(['Trade Date', 'Open', 'High', 'Low', 'Close', 'Settle', 'Change',\n       'Total Volume', 'EFP', 'Prev. Day Open Interest'],\n      dtype='object')\n"
     ]
    },
    {
     "name": "stdout",
     "output_type": "stream",
     "text": [
      "VIX201702.csv :  Index(['Trade Date', 'Open', 'High', 'Low', 'Close', 'Settle', 'Change',\n       'Total Volume', 'EFP', 'Prev. Day Open Interest'],\n      dtype='object')\nVIX201102.csv :  Index(['Trade Date', 'Open', 'High', 'Low', 'Close', 'Settle', 'Change',\n       'Total Volume', 'EFP', 'Prev. Day Open Interest'],\n      dtype='object')\n"
     ]
    },
    {
     "name": "stdout",
     "output_type": "stream",
     "text": [
      "VIX201408.csv :  Index(['Trade Date', 'Open', 'High', 'Low', 'Close', 'Settle', 'Change',\n       'Total Volume', 'EFP', 'Prev. Day Open Interest'],\n      dtype='object')\nVIX201611.csv :  Index(['Trade Date', 'Open', 'High', 'Low', 'Close', 'Settle', 'Change',\n       'Total Volume', 'EFP', 'Prev. Day Open Interest'],\n      dtype='object')\nVIX201510.csv :  Index(['Trade Date', 'Open', 'High', 'Low', 'Close', 'Settle', 'Change',\n       'Total Volume', 'EFP', 'Prev. Day Open Interest'],\n      dtype='object')\n"
     ]
    },
    {
     "name": "stdout",
     "output_type": "stream",
     "text": [
      "VIX201407.csv :  Index(['Trade Date', 'Open', 'High', 'Low', 'Close', 'Settle', 'Change',\n       'Total Volume', 'EFP', 'Prev. Day Open Interest'],\n      dtype='object')\nVIX201409.csv :  Index(['Trade Date', 'Open', 'High', 'Low', 'Close', 'Settle', 'Change',\n       'Total Volume', 'EFP', 'Prev. Day Open Interest'],\n      dtype='object')\nVIX201211.csv :  Index(['Trade Date', 'Open', 'High', 'Low', 'Close', 'Settle', 'Change',\n       'Total Volume', 'EFP', 'Prev. Day Open Interest'],\n      dtype='object')\nVIX201210.csv :  Index(['Trade Date', 'Open', 'High', 'Low', 'Close', 'Settle', 'Change',\n       'Total Volume', 'EFP', 'Prev. Day Open Interest'],\n      dtype='object')\n"
     ]
    },
    {
     "name": "stdout",
     "output_type": "stream",
     "text": [
      "KR3201703.csv :  Index(['Date', 'Current Price', 'Change', 'Open', 'High', 'Low',\n       'Trading Volume', 'Open Interest'],\n      dtype='object')\nVIX201603.csv :  Index(['Trade Date', 'Open', 'High', 'Low', 'Close', 'Settle', 'Change',\n       'Total Volume', 'EFP', 'Prev. Day Open Interest'],\n      dtype='object')\nVIX201205.csv :  Index(['Trade Date', 'Open', 'High', 'Low', 'Close', 'Settle', 'Change',\n       'Total Volume', 'EFP', 'Prev. Day Open Interest'],\n      dtype='object')\n"
     ]
    },
    {
     "name": "stdout",
     "output_type": "stream",
     "text": [
      "VIX201011.csv :  Index(['Trade Date', 'Open', 'High', 'Low', 'Close', 'Settle', 'Change',\n       'Total Volume', 'EFP', 'Prev. Day Open Interest'],\n      dtype='object')\nVIX201307.csv :  Index(['Trade Date', 'Open', 'High', 'Low', 'Close', 'Settle', 'Change',\n       'Total Volume', 'EFP', 'Prev. Day Open Interest'],\n      dtype='object')\nVIX201004.csv :  Index(['Trade Date', 'Open', 'High', 'Low', 'Close', 'Settle', 'Change',\n       'Total Volume', 'EFP', 'Prev. Day Open Interest'],\n      dtype='object')\nVIX201209.csv :  Index(['Trade Date', 'Open', 'High', 'Low', 'Close', 'Settle', 'Change',\n       'Total Volume', 'EFP', 'Prev. Day Open Interest'],\n      dtype='object')\nVIX201306.csv :  Index(['Trade Date', 'Open', 'High', 'Low', 'Close', 'Settle', 'Change',\n       'Total Volume', 'EFP', 'Prev. Day Open Interest'],\n      dtype='object')\n"
     ]
    },
    {
     "name": "stdout",
     "output_type": "stream",
     "text": [
      "KR3201609.csv :  Index(['Date', 'Current Price', 'Change', 'Open', 'High', 'Low',\n       'Trading Volume', 'Open Interest'],\n      dtype='object')\nVIX200811.csv :  Index(['Trade Date', 'Open', 'High', 'Low', 'Close', 'Settle', 'Change',\n       'Total Volume', 'EFP', 'Prev. Day Open Interest'],\n      dtype='object')\nVIX200907.csv :  Index(['Trade Date', 'Open', 'High', 'Low', 'Close', 'Settle', 'Change',\n       'Total Volume', 'EFP', 'Prev. Day Open Interest'],\n      dtype='object')\nVIX200805.csv :  Index(['Trade Date', 'Open', 'High', 'Low', 'Close', 'Settle', 'Change',\n       'Total Volume', 'EFP', 'Prev. Day Open Interest'],\n      dtype='object')\n"
     ]
    },
    {
     "name": "stdout",
     "output_type": "stream",
     "text": [
      "VIX200909.csv :  Index(['Trade Date', 'Open', 'High', 'Low', 'Close', 'Settle', 'Change',\n       'Total Volume', 'EFP', 'Prev. Day Open Interest'],\n      dtype='object')\nVIX200906.csv :  Index(['Trade Date', 'Open', 'High', 'Low', 'Close', 'Settle', 'Change',\n       'Total Volume', 'EFP', 'Prev. Day Open Interest'],\n      dtype='object')\n"
     ]
    },
    {
     "name": "stdout",
     "output_type": "stream",
     "text": [
      "VIX201509.csv :  Index(['Trade Date', 'Open', 'High', 'Low', 'Close', 'Settle', 'Change',\n       'Total Volume', 'EFP', 'Prev. Day Open Interest'],\n      dtype='object')\nVIX201601.csv :  Index(['Trade Date', 'Open', 'High', 'Low', 'Close', 'Settle', 'Change',\n       'Total Volume', 'EFP', 'Prev. Day Open Interest'],\n      dtype='object')\nVIX201502.csv :  Index(['Trade Date', 'Open', 'High', 'Low', 'Close', 'Settle', 'Change',\n       'Total Volume', 'EFP', 'Prev. Day Open Interest'],\n      dtype='object')\nVIX201511.csv :  Index(['Trade Date', 'Open', 'High', 'Low', 'Close', 'Settle', 'Change',\n       'Total Volume', 'EFP', 'Prev. Day Open Interest'],\n      dtype='object')\n"
     ]
    },
    {
     "name": "stdout",
     "output_type": "stream",
     "text": [
      "VIX201309.csv :  Index(['Trade Date', 'Open', 'High', 'Low', 'Close', 'Settle', 'Change',\n       'Total Volume', 'EFP', 'Prev. Day Open Interest'],\n      dtype='object')\nVIX201308.csv :  Index(['Trade Date', 'Open', 'High', 'Low', 'Close', 'Settle', 'Change',\n       'Total Volume', 'EFP', 'Prev. Day Open Interest'],\n      dtype='object')\nVIX201607.csv :  Index(['Trade Date', 'Open', 'High', 'Low', 'Close', 'Settle', 'Change',\n       'Total Volume', 'EFP', 'Prev. Day Open Interest'],\n      dtype='object')\nVIX201602.csv :  Index(['Trade Date', 'Open', 'High', 'Low', 'Close', 'Settle', 'Change',\n       'Total Volume', 'EFP', 'Prev. Day Open Interest'],\n      dtype='object')\n"
     ]
    },
    {
     "name": "stdout",
     "output_type": "stream",
     "text": [
      "KR10201612.csv :  Index(['Date', 'Current Price', 'Change', 'Open', 'High', 'Low',\n       'Trading Volume', 'Open Interest'],\n      dtype='object')\nVIX200806.csv :  Index(['Trade Date', 'Open', 'High', 'Low', 'Close', 'Settle', 'Change',\n       'Total Volume', 'EFP', 'Prev. Day Open Interest'],\n      dtype='object')\nVIX201612.csv :  Index(['Trade Date', 'Open', 'High', 'Low', 'Close', 'Settle', 'Change',\n       'Total Volume', 'EFP', 'Prev. Day Open Interest'],\n      dtype='object')\n"
     ]
    },
    {
     "name": "stdout",
     "output_type": "stream",
     "text": [
      "KR3201612.csv :  Index(['Date', 'Current Price', 'Change', 'Open', 'High', 'Low',\n       'Trading Volume', 'Open Interest'],\n      dtype='object')\n"
     ]
    },
    {
     "name": "stdout",
     "output_type": "stream",
     "text": [
      "VIX201101.csv :  Index(['Trade Date', 'Open', 'High', 'Low', 'Close', 'Settle', 'Change',\n       'Total Volume', 'EFP', 'Prev. Day Open Interest'],\n      dtype='object')\nKOSPI201706.csv :  Index(['Date', 'Current Price', 'Change', 'Open', 'High', 'Low',\n       'Trading Volume', 'Open Interest'],\n      dtype='object')\nVIX200905.csv :  Index(['Trade Date', 'Open', 'High', 'Low', 'Close', 'Settle', 'Change',\n       'Total Volume', 'EFP', 'Prev. Day Open Interest'],\n      dtype='object')\nVIX201012.csv :  Index(['Trade Date', 'Open', 'High', 'Low', 'Close', 'Settle', 'Change',\n       'Total Volume', 'EFP', 'Prev. Day Open Interest'],\n      dtype='object')\nVIX200807.csv :  Index(['Trade Date', 'Open', 'High', 'Low', 'Close', 'Settle', 'Change',\n       'Total Volume', 'EFP', 'Prev. Day Open Interest'],\n      dtype='object')\nVIX201704.csv :  Index(['Trade Date', 'Open', 'High', 'Low', 'Close', 'Settle', 'Change',\n       'Total Volume', 'EFP', 'Prev. Day Open Interest'],\n      dtype='object')\n"
     ]
    },
    {
     "name": "stdout",
     "output_type": "stream",
     "text": [
      "VIX200910.csv :  Index(['Trade Date', 'Open', 'High', 'Low', 'Close', 'Settle', 'Change',\n       'Total Volume', 'EFP', 'Prev. Day Open Interest'],\n      dtype='object')\nKR10201609.csv :  Index(['Date', 'Current Price', 'Change', 'Open', 'High', 'Low',\n       'Trading Volume', 'Open Interest'],\n      dtype='object')\nVIX201112.csv :  Index(['Trade Date', 'Open', 'High', 'Low', 'Close', 'Settle', 'Change',\n       'Total Volume', 'EFP', 'Prev. Day Open Interest'],\n      dtype='object')\nVIX201703.csv :  Index(['Trade Date', 'Open', 'High', 'Low', 'Close', 'Settle', 'Change',\n       'Total Volume', 'EFP', 'Prev. Day Open Interest'],\n      dtype='object')\nVIX201410.csv :  Index(['Trade Date', 'Open', 'High', 'Low', 'Close', 'Settle', 'Change',\n       'Total Volume', 'EFP', 'Prev. Day Open Interest'],\n      dtype='object')\nVIX200808.csv :  Index(['Trade Date', 'Open', 'High', 'Low', 'Close', 'Settle', 'Change',\n       'Total Volume', 'EFP', 'Prev. Day Open Interest'],\n      dtype='object')\nVIX201405.csv :  Index(['Trade Date', 'Open', 'High', 'Low', 'Close', 'Settle', 'Change',\n       'Total Volume', 'EFP', 'Prev. Day Open Interest'],\n      dtype='object')\n"
     ]
    },
    {
     "name": "stdout",
     "output_type": "stream",
     "text": [
      "VIX200809.csv :  Index(['Trade Date', 'Open', 'High', 'Low', 'Close', 'Settle', 'Change',\n       'Total Volume', 'EFP', 'Prev. Day Open Interest'],\n      dtype='object')\nVIX201411.csv :  Index(['Trade Date', 'Open', 'High', 'Low', 'Close', 'Settle', 'Change',\n       'Total Volume', 'EFP', 'Prev. Day Open Interest'],\n      dtype='object')\nVIX200911.csv :  Index(['Trade Date', 'Open', 'High', 'Low', 'Close', 'Settle', 'Change',\n       'Total Volume', 'EFP', 'Prev. Day Open Interest'],\n      dtype='object')\n"
     ]
    },
    {
     "name": "stdout",
     "output_type": "stream",
     "text": [
      "VIX201110.csv :  Index(['Trade Date', 'Open', 'High', 'Low', 'Close', 'Settle', 'Change',\n       'Total Volume', 'EFP', 'Prev. Day Open Interest'],\n      dtype='object')\nVIX200902.csv :  Index(['Trade Date', 'Open', 'High', 'Low', 'Close', 'Settle', 'Change',\n       'Total Volume', 'EFP', 'Prev. Day Open Interest'],\n      dtype='object')\n"
     ]
    },
    {
     "name": "stdout",
     "output_type": "stream",
     "text": [
      "VIX201605.csv :  Index(['Trade Date', 'Open', 'High', 'Low', 'Close', 'Settle', 'Change',\n       'Total Volume', 'EFP', 'Prev. Day Open Interest'],\n      dtype='object')\nVIX201506.csv :  Index(['Trade Date', 'Open', 'High', 'Low', 'Close', 'Settle', 'Change',\n       'Total Volume', 'EFP', 'Prev. Day Open Interest'],\n      dtype='object')\nVIX201104.csv"
     ]
    },
    {
     "name": "stdout",
     "output_type": "stream",
     "text": [
      " :  Index(['Trade Date', 'Open', 'High', 'Low', 'Close', 'Settle', 'Change',\n       'Total Volume', 'EFP', 'Prev. Day Open Interest'],\n      dtype='object')\nVIX201208.csv :  Index(['Trade Date', 'Open', 'High', 'Low', 'Close', 'Settle', 'Change',\n       'Total Volume', 'EFP', 'Prev. Day Open Interest'],\n      dtype='object')\nVIX201008.csv :  Index(['Trade Date', 'Open', 'High', 'Low', 'Close', 'Settle', 'Change',\n       'Total Volume', 'EFP', 'Prev. Day Open Interest'],\n      dtype='object')\nVIX201412.csv :  Index(['Trade Date', 'Open', 'High', 'Low', 'Close', 'Settle', 'Change',\n       'Total Volume', 'EFP', 'Prev. Day Open Interest'],\n      dtype='object')\n"
     ]
    },
    {
     "name": "stdout",
     "output_type": "stream",
     "text": [
      "VIX201212.csv :  Index(['Trade Date', 'Open', 'High', 'Low', 'Close', 'Settle', 'Change',\n       'Total Volume', 'EFP', 'Prev. Day Open Interest'],\n      dtype='object')\nKR10201703.csv :  Index(['Date', 'Current Price', 'Change', 'Open', 'High', 'Low',\n       'Trading Volume', 'Open Interest'],\n      dtype='object')\n"
     ]
    },
    {
     "name": "stdout",
     "output_type": "stream",
     "text": [
      "VIX201106.csv :  Index(['Trade Date', 'Open', 'High', 'Low', 'Close', 'Settle', 'Change',\n       'Total Volume', 'EFP', 'Prev. Day Open Interest'],\n      dtype='object')\nVIX201606.csv :  Index(['Trade Date', 'Open', 'High', 'Low', 'Close', 'Settle', 'Change',\n       'Total Volume', 'EFP', 'Prev. Day Open Interest'],\n      dtype='object')\nVIX201007.csv :  Index(['Trade Date', 'Open', 'High', 'Low', 'Close', 'Settle', 'Change',\n       'Total Volume', 'EFP', 'Prev. Day Open Interest'],\n      dtype='object')\n"
     ]
    },
    {
     "name": "stdout",
     "output_type": "stream",
     "text": [
      "VIX201105.csv :  Index(['Trade Date', 'Open', 'High', 'Low', 'Close', 'Settle', 'Change',\n       'Total Volume', 'EFP', 'Prev. Day Open Interest'],\n      dtype='object')\nVIX201003.csv :  Index(['Trade Date', 'Open', 'High', 'Low', 'Close', 'Settle', 'Change',\n       'Total Volume', 'EFP', 'Prev. Day Open Interest'],\n      dtype='object')\nVIX200912.csv :  Index(['Trade Date', 'Open', 'High', 'Low', 'Close', 'Settle', 'Change',\n       'Total Volume', 'EFP', 'Prev. Day Open Interest'],\n      dtype='object')\n"
     ]
    },
    {
     "name": "stdout",
     "output_type": "stream",
     "text": [
      "VIX201508.csv :  Index(['Trade Date', 'Open', 'High', 'Low', 'Close', 'Settle', 'Change',\n       'Total Volume', 'EFP', 'Prev. Day Open Interest'],\n      dtype='object')\nVIX201108.csv :  Index(['Trade Date', 'Open', 'High', 'Low', 'Close', 'Settle', 'Change',\n       'Total Volume', 'EFP', 'Prev. Day Open Interest'],\n      dtype='object')\nVIX201512.csv :  Index(['Trade Date', 'Open', 'High', 'Low', 'Close', 'Settle', 'Change',\n       'Total Volume', 'EFP', 'Prev. Day Open Interest'],\n      dtype='object')\nVIX201103.csv :  Index(['Trade Date', 'Open', 'High', 'Low', 'Close', 'Settle', 'Change',\n       'Total Volume', 'EFP', 'Prev. Day Open Interest'],\n      dtype='object')\nVIX200812.csv :  Index(['Trade Date', 'Open', 'High', 'Low', 'Close', 'Settle', 'Change',\n       'Total Volume', 'EFP', 'Prev. Day Open Interest'],\n      dtype='object')\nVIX201404.csv :  Index(['Trade Date', 'Open', 'High', 'Low', 'Close', 'Settle', 'Change',\n       'Total Volume', 'EFP', 'Prev. Day Open Interest'],\n      dtype='object')\n"
     ]
    },
    {
     "name": "stdout",
     "output_type": "stream",
     "text": [
      "VIX201202.csv :  Index(['Trade Date', 'Open', 'High', 'Low', 'Close', 'Settle', 'Change',\n       'Total Volume', 'EFP', 'Prev. Day Open Interest'],\n      dtype='object')\nVIX200904.csv :  Index(['Trade Date', 'Open', 'High', 'Low', 'Close', 'Settle', 'Change',\n       'Total Volume', 'EFP', 'Prev. Day Open Interest'],\n      dtype='object')\nVIX201107.csv :  Index(['Trade Date', 'Open', 'High', 'Low', 'Close', 'Settle', 'Change',\n       'Total Volume', 'EFP', 'Prev. Day Open Interest'],\n      dtype='object')\nVIX201304.csv :  Index(['Trade Date', 'Open', 'High', 'Low', 'Close', 'Settle', 'Change',\n       'Total Volume', 'EFP', 'Prev. Day Open Interest'],\n      dtype='object')\n"
     ]
    },
    {
     "name": "stdout",
     "output_type": "stream",
     "text": [
      "VIX201305.csv :  Index(['Trade Date', 'Open', 'High', 'Low', 'Close', 'Settle', 'Change',\n       'Total Volume', 'EFP', 'Prev. Day Open Interest'],\n      dtype='object')\nVIX201503.csv :  Index(['Trade Date', 'Open', 'High', 'Low', 'Close', 'Settle', 'Change',\n       'Total Volume', 'EFP', 'Prev. Day Open Interest'],\n      dtype='object')\n"
     ]
    },
    {
     "name": "stdout",
     "output_type": "stream",
     "text": [
      "VIX201604.csv :  Index(['Trade Date', 'Open', 'High', 'Low', 'Close', 'Settle', 'Change',\n       'Total Volume', 'EFP', 'Prev. Day Open Interest'],\n      dtype='object')\nVIX201505.csv :  Index(['Trade Date', 'Open', 'High', 'Low', 'Close', 'Settle', 'Change',\n       'Total Volume', 'EFP', 'Prev. Day Open Interest'],\n      dtype='object')\nKR3201706.csv :  Index(['Date', 'Current Price', 'Change', 'Open', 'High', 'Low',\n       'Trading Volume', 'Open Interest'],\n      dtype='object')\n"
     ]
    },
    {
     "name": "stdout",
     "output_type": "stream",
     "text": [
      "VIX201006.csv :  Index(['Trade Date', 'Open', 'High', 'Low', 'Close', 'Settle', 'Change',\n       'Total Volume', 'EFP', 'Prev. Day Open Interest'],\n      dtype='object')\nKOSPI201703.csv :  Index(['Date', 'Current Price', 'Change', 'Open', 'High', 'Low',\n       'Trading Volume', 'Open Interest'],\n      dtype='object')\nVIX200901.csv :  Index(['Trade Date', 'Open', 'High', 'Low', 'Close', 'Settle', 'Change',\n       'Total Volume', 'EFP', 'Prev. Day Open Interest'],\n      dtype='object')\n"
     ]
    }
   ],
   "source": [
    "import pandas as pd\n",
    "import os\n",
    "from os import listdir\n",
    "from os.path import isfile, join\n",
    "mypath = \"quandl_history/\"\n",
    "onlyfiles = [f for f in listdir(mypath) if isfile(join(mypath, f))]\n",
    "eur_df = pd.read_csv(mypath+onlyfiles[0])\n",
    "i = 0\n",
    "for file in onlyfiles:\n",
    "    df = pd.read_csv(mypath+file)\n",
    "    if (not 'Volume' in df.columns.values):\n",
    "       # if (not 'Current Price' in df.columns.values):\n",
    "        print( file,\": \", df.columns)"
   ]
  },
  {
   "cell_type": "code",
   "execution_count": 35,
   "metadata": {},
   "outputs": [
    {
     "name": "stdout",
     "output_type": "stream",
     "text": [
      "Yes\n"
     ]
    }
   ],
   "source": [
    "if 'Pete' in ['Pete', 'Andrew']:\n",
    "    print(\"Yes\")"
   ]
  },
  {
   "cell_type": "code",
   "execution_count": 37,
   "metadata": {},
   "outputs": [
    {
     "data": {
      "text/html": [
       "<div>\n",
       "<table border=\"1\" class=\"dataframe\">\n",
       "  <thead>\n",
       "    <tr style=\"text-align: right;\">\n",
       "      <th></th>\n",
       "      <th>DATETIME</th>\n",
       "      <th>PRICE</th>\n",
       "      <th>CARRY</th>\n",
       "      <th>CARRY_CONTRACT</th>\n",
       "      <th>PRICE_CONTRACT</th>\n",
       "    </tr>\n",
       "  </thead>\n",
       "  <tbody>\n",
       "    <tr>\n",
       "      <th>0</th>\n",
       "      <td>1983-09-26</td>\n",
       "      <td>89.06</td>\n",
       "      <td>89.26</td>\n",
       "      <td>198409</td>\n",
       "      <td>198412</td>\n",
       "    </tr>\n",
       "    <tr>\n",
       "      <th>1</th>\n",
       "      <td>1983-09-27</td>\n",
       "      <td>88.95</td>\n",
       "      <td>89.16</td>\n",
       "      <td>198409</td>\n",
       "      <td>198412</td>\n",
       "    </tr>\n",
       "    <tr>\n",
       "      <th>2</th>\n",
       "      <td>1983-09-28</td>\n",
       "      <td>88.90</td>\n",
       "      <td>89.11</td>\n",
       "      <td>198409</td>\n",
       "      <td>198412</td>\n",
       "    </tr>\n",
       "  </tbody>\n",
       "</table>\n",
       "</div>"
      ],
      "text/plain": [
       "<div>\n",
       "<table border=\"1\" class=\"dataframe\">\n",
       "  <thead>\n",
       "    <tr style=\"text-align: right;\">\n",
       "      <th></th>\n",
       "      <th>DATETIME</th>\n",
       "      <th>PRICE</th>\n",
       "      <th>CARRY</th>\n",
       "      <th>CARRY_CONTRACT</th>\n",
       "      <th>PRICE_CONTRACT</th>\n",
       "    </tr>\n",
       "  </thead>\n",
       "  <tbody>\n",
       "    <tr>\n",
       "      <th>0</th>\n",
       "      <td>1983-09-26</td>\n",
       "      <td>89.06</td>\n",
       "      <td>89.26</td>\n",
       "      <td>198409</td>\n",
       "      <td>198412</td>\n",
       "    </tr>\n",
       "    <tr>\n",
       "      <th>1</th>\n",
       "      <td>1983-09-27</td>\n",
       "      <td>88.95</td>\n",
       "      <td>89.16</td>\n",
       "      <td>198409</td>\n",
       "      <td>198412</td>\n",
       "    </tr>\n",
       "    <tr>\n",
       "      <th>2</th>\n",
       "      <td>1983-09-28</td>\n",
       "      <td>88.90</td>\n",
       "      <td>89.11</td>\n",
       "      <td>198409</td>\n",
       "      <td>198412</td>\n",
       "    </tr>\n",
       "  </tbody>\n",
       "</table>\n",
       "</div>"
      ]
     },
     "execution_count": 37,
     "metadata": {},
     "output_type": "execute_result"
    }
   ],
   "source": [
    "df = pd.read_csv(\"data/EDOLLAR_carrydata.csv\")\n",
    "df.head(3)"
   ]
  },
  {
   "cell_type": "code",
   "execution_count": 38,
   "metadata": {},
   "outputs": [
    {
     "data": {
      "text/html": [
       "<div>\n",
       "<table border=\"1\" class=\"dataframe\">\n",
       "  <thead>\n",
       "    <tr style=\"text-align: right;\">\n",
       "      <th></th>\n",
       "      <th>DATETIME</th>\n",
       "      <th>PRICE</th>\n",
       "      <th>CARRY</th>\n",
       "      <th>CARRY_CONTRACT</th>\n",
       "      <th>PRICE_CONTRACT</th>\n",
       "    </tr>\n",
       "  </thead>\n",
       "  <tbody>\n",
       "    <tr>\n",
       "      <th>0</th>\n",
       "      <td>1983-09-26</td>\n",
       "      <td>89.06</td>\n",
       "      <td>89.26</td>\n",
       "      <td>198409</td>\n",
       "      <td>198412</td>\n",
       "    </tr>\n",
       "  </tbody>\n",
       "</table>\n",
       "</div>"
      ],
      "text/plain": [
       "<div>\n",
       "<table border=\"1\" class=\"dataframe\">\n",
       "  <thead>\n",
       "    <tr style=\"text-align: right;\">\n",
       "      <th></th>\n",
       "      <th>DATETIME</th>\n",
       "      <th>PRICE</th>\n",
       "      <th>CARRY</th>\n",
       "      <th>CARRY_CONTRACT</th>\n",
       "      <th>PRICE_CONTRACT</th>\n",
       "    </tr>\n",
       "  </thead>\n",
       "  <tbody>\n",
       "    <tr>\n",
       "      <th>0</th>\n",
       "      <td>1983-09-26</td>\n",
       "      <td>89.06</td>\n",
       "      <td>89.26</td>\n",
       "      <td>198409</td>\n",
       "      <td>198412</td>\n",
       "    </tr>\n",
       "  </tbody>\n",
       "</table>\n",
       "</div>"
      ]
     },
     "execution_count": 38,
     "metadata": {},
     "output_type": "execute_result"
    }
   ],
   "source": [
    "df[0:1]"
   ]
  },
  {
   "cell_type": "code",
   "execution_count": 40,
   "metadata": {},
   "outputs": [
    {
     "data": {
      "text/html": [
       "<div>\n",
       "<table border=\"1\" class=\"dataframe\">\n",
       "  <thead>\n",
       "    <tr style=\"text-align: right;\">\n",
       "      <th></th>\n",
       "      <th>DATETIME</th>\n",
       "      <th>PRICE</th>\n",
       "      <th>CARRY</th>\n",
       "      <th>CARRY_CONTRACT</th>\n",
       "    </tr>\n",
       "  </thead>\n",
       "  <tbody>\n",
       "    <tr>\n",
       "      <th>0</th>\n",
       "      <td>1983-09-26</td>\n",
       "      <td>89.06</td>\n",
       "      <td>89.26</td>\n",
       "      <td>198409</td>\n",
       "    </tr>\n",
       "  </tbody>\n",
       "</table>\n",
       "</div>"
      ],
      "text/plain": [
       "<div>\n",
       "<table border=\"1\" class=\"dataframe\">\n",
       "  <thead>\n",
       "    <tr style=\"text-align: right;\">\n",
       "      <th></th>\n",
       "      <th>DATETIME</th>\n",
       "      <th>PRICE</th>\n",
       "      <th>CARRY</th>\n",
       "      <th>CARRY_CONTRACT</th>\n",
       "    </tr>\n",
       "  </thead>\n",
       "  <tbody>\n",
       "    <tr>\n",
       "      <th>0</th>\n",
       "      <td>1983-09-26</td>\n",
       "      <td>89.06</td>\n",
       "      <td>89.26</td>\n",
       "      <td>198409</td>\n",
       "    </tr>\n",
       "  </tbody>\n",
       "</table>\n",
       "</div>"
      ]
     },
     "execution_count": 40,
     "metadata": {},
     "output_type": "execute_result"
    }
   ],
   "source": [
    "df[0:1].drop('PRICE_CONTRACT',1)"
   ]
  },
  {
   "cell_type": "code",
   "execution_count": 1,
   "metadata": {},
   "outputs": [
    {
     "name": "stdout",
     "output_type": "stream",
     "text": [
      "3\n"
     ]
    }
   ],
   "source": [
    "print(3)"
   ]
  },
  {
   "cell_type": "code",
   "execution_count": 13,
   "metadata": {},
   "outputs": [
    {
     "data": {
      "text/html": [
       "<div>\n",
       "<table border=\"1\" class=\"dataframe\">\n",
       "  <thead>\n",
       "    <tr style=\"text-align: right;\">\n",
       "      <th></th>\n",
       "      <th>Open</th>\n",
       "      <th>High</th>\n",
       "      <th>Low</th>\n",
       "      <th>Settle</th>\n",
       "      <th>Volume</th>\n",
       "      <th>Open Interest</th>\n",
       "    </tr>\n",
       "    <tr>\n",
       "      <th>Date</th>\n",
       "      <th></th>\n",
       "      <th></th>\n",
       "      <th></th>\n",
       "      <th></th>\n",
       "      <th></th>\n",
       "      <th></th>\n",
       "    </tr>\n",
       "  </thead>\n",
       "  <tbody>\n",
       "    <tr>\n",
       "      <th>2013-10-11</th>\n",
       "      <td>368.9</td>\n",
       "      <td>368.9</td>\n",
       "      <td>368.9</td>\n",
       "      <td>369.4</td>\n",
       "      <td>1.0</td>\n",
       "      <td>13.0</td>\n",
       "    </tr>\n",
       "    <tr>\n",
       "      <th>2013-10-12</th>\n",
       "      <td>368.9</td>\n",
       "      <td>368.9</td>\n",
       "      <td>368.9</td>\n",
       "      <td>369.4</td>\n",
       "      <td>1.0</td>\n",
       "      <td>13.0</td>\n",
       "    </tr>\n",
       "  </tbody>\n",
       "</table>\n",
       "</div>"
      ],
      "text/plain": [
       "<div>\n",
       "<table border=\"1\" class=\"dataframe\">\n",
       "  <thead>\n",
       "    <tr style=\"text-align: right;\">\n",
       "      <th></th>\n",
       "      <th>Open</th>\n",
       "      <th>High</th>\n",
       "      <th>Low</th>\n",
       "      <th>Settle</th>\n",
       "      <th>Volume</th>\n",
       "      <th>Open Interest</th>\n",
       "    </tr>\n",
       "    <tr>\n",
       "      <th>Date</th>\n",
       "      <th></th>\n",
       "      <th></th>\n",
       "      <th></th>\n",
       "      <th></th>\n",
       "      <th></th>\n",
       "      <th></th>\n",
       "    </tr>\n",
       "  </thead>\n",
       "  <tbody>\n",
       "    <tr>\n",
       "      <th>2013-10-11</th>\n",
       "      <td>368.9</td>\n",
       "      <td>368.9</td>\n",
       "      <td>368.9</td>\n",
       "      <td>369.4</td>\n",
       "      <td>1.0</td>\n",
       "      <td>13.0</td>\n",
       "    </tr>\n",
       "    <tr>\n",
       "      <th>2013-10-12</th>\n",
       "      <td>368.9</td>\n",
       "      <td>368.9</td>\n",
       "      <td>368.9</td>\n",
       "      <td>369.4</td>\n",
       "      <td>1.0</td>\n",
       "      <td>13.0</td>\n",
       "    </tr>\n",
       "  </tbody>\n",
       "</table>\n",
       "</div>"
      ]
     },
     "execution_count": 13,
     "metadata": {},
     "output_type": "execute_result"
    }
   ],
   "source": [
    "import pandas as pd\n",
    "import datetime\n",
    "df = pd.read_csv(\"quandl_history/AEX201406.csv\", index_col=[\"Date\"])\n",
    "#df.loc['2013-10-07':'2020-12-08']\n",
    "cd = df[df['Settle']== 369.40]\n",
    "cd"
   ]
  },
  {
   "cell_type": "code",
   "execution_count": 16,
   "metadata": {},
   "outputs": [
    {
     "data": {
      "text/plain": [
       "'2013-10-08'"
      ]
     },
     "execution_count": 16,
     "metadata": {},
     "output_type": "execute_result"
    }
   ],
   "source": [
    "df[:1].index[0]"
   ]
  },
  {
   "cell_type": "code",
   "execution_count": 21,
   "metadata": {},
   "outputs": [
    {
     "data": {
      "text/plain": [
       "'2014-06-20'"
      ]
     },
     "execution_count": 21,
     "metadata": {},
     "output_type": "execute_result"
    }
   ],
   "source": [
    "df[-1:].index[0]"
   ]
  },
  {
   "cell_type": "code",
   "execution_count": 12,
   "metadata": {},
   "outputs": [
    {
     "name": "stdout",
     "output_type": "stream",
     "text": [
      "              Open    High     Low  Settle   Volume  Open Interest\nDate                                                              \n2013-12-04  388.40  389.15  388.40  387.75      4.0          136.0\n2013-12-05  386.10  386.10  383.55  383.30     16.0          136.0\n2013-12-06  384.40  384.40  384.40  386.55      1.0          152.0\n2013-12-09    0.00    0.00    0.00  386.65      0.0          152.0\n2013-12-10    0.00    0.00    0.00  384.95      0.0          152.0\n2013-12-11  383.15  383.15  383.15  382.25     20.0          153.0\n2013-12-12  378.70  378.80  376.05  377.05     52.0          173.0\n2013-12-13     NaN     NaN     NaN     NaN      NaN            NaN\n2013-12-16  376.85  380.75  376.85  380.55    102.0          282.0\n2013-12-17  378.10  378.10  378.10  377.60    100.0          384.0\n2013-12-18  377.85  384.65  377.85  380.25     21.0          484.0\n2013-12-19  386.00  386.90  385.95  387.10     21.0          484.0\n2013-12-20  388.95  391.00  388.95  390.85   1514.0          506.0\n2013-12-23  392.90  393.00  392.90  394.65      6.0         1926.0\n2013-12-24  396.70  396.70  396.35  395.90     11.0         1928.0\n2013-12-25    0.00    0.00    0.00  395.90      0.0         1928.0\n2013-12-26     NaN     NaN     NaN     NaN      NaN            NaN\n2013-12-27  398.70  399.05  398.70  400.35     10.0         1935.0\n2013-12-30  401.00  401.15  399.70  399.35      8.0         1937.0\n2013-12-31  401.10  401.45  401.10  401.40      5.0         1936.0\n2014-01-01    0.00    0.00    0.00  401.40      0.0         1936.0\n2014-01-02  400.00  402.30  398.75  402.20     40.0         1953.0\n2014-01-03  400.00  402.30  398.75  402.20     40.0         1953.0\n2014-01-06  400.95  401.35  398.85  399.20     23.0         1956.0\n2014-01-07  400.00  402.30  398.75  402.20     40.0         1953.0\n2014-01-08  402.95  403.00  402.20  402.80    593.0         1967.0\n2014-01-09  402.55  403.60  400.50  401.35     54.0         2059.0\n2014-01-10  403.20  405.00  402.70  403.05    113.0         2098.0\n2014-01-13  403.20  405.00  402.70  403.05    113.0         2098.0\n2014-01-14  401.30  406.60  399.60  405.55  20082.0         6353.0\n2014-01-15  406.45  408.30  405.75  407.65  49109.0        19851.0\n2014-01-16  408.10  408.60  400.00  406.65  19821.0        54766.0\n2014-01-17  406.90  407.70  404.10  407.40  28795.0        58763.0\n2014-01-20  406.45  407.25  405.65  407.00  11241.0        63407.0\n2014-01-21  408.15  408.40  403.35  404.15  23414.0        62518.0\n2014-01-22  405.70  407.45  400.00  406.50  22765.0        65394.0\n2014-01-23  406.25  407.30  401.90  403.10  26277.0        66368.0\n2014-01-24  403.35  404.15  391.00  393.20  49962.0        66251.0\n2014-01-27  391.20  400.00  387.40  389.95  42468.0        72004.0\n2014-01-28  389.30  400.00  389.25  391.40  30194.0        74676.0\n2014-01-29  393.95  400.00  383.55  388.45  52252.0        70905.0\n2014-01-30  388.15  400.00  385.35  388.55  37238.0        71710.0\n2014-01-31  388.50  388.50  380.70  386.00  48124.0        69238.0\n2014-02-03  383.50  387.65  379.10  382.95  42276.0        71365.0\n2014-02-04  380.30  383.30  378.50  382.05  33641.0        72949.0\n2014-02-05  381.25  384.00  380.00  382.20  31756.0        70133.0\n2014-02-06  382.85  389.10  382.55  387.80  39091.0        68513.0\n2014-02-07  389.35  390.75  386.90  388.90  31326.0        68463.0\n2014-02-10  390.55  390.65  380.00  389.00  19922.0        66951.0\n2014-02-11  390.10  395.75  389.90  394.15  26535.0        66014.0\n2014-02-12  395.40  399.50  394.80  397.50  27622.0        67135.0\n2014-02-13  397.05  398.40  394.85  397.20  25032.0        67215.0\n2014-02-14  397.65  400.15  397.35  399.10  20279.0        68085.0\n2014-02-17  399.70  402.00  399.60  401.45  14872.0        67738.0\n2014-02-18  401.95  402.55  399.70  401.65  43635.0        67771.0\n2014-02-19  401.00  402.45  399.05  401.50  81621.0        75843.0\n2014-02-20  398.60  399.50  395.75  398.65  40153.0        73430.0\n2014-02-21  400.05  400.95  399.35  399.70   7467.0        15733.0\n"
     ]
    }
   ],
   "source": [
    "import pandas as pd\n",
    "current_carry_file = \"quandl_history/AEX201402.csv\"\n",
    "current_price_df = pd.read_csv(current_carry_file, index_col=[\"Date\"],parse_dates=True)\n",
    "print(current_price_df.resample('B').last())"
   ]
  },
  {
   "cell_type": "code",
   "execution_count": null,
   "metadata": {},
   "outputs": [],
   "source": [
    ""
   ]
  }
 ],
 "metadata": {
  "kernelspec": {
   "display_name": "Python 2",
   "language": "python",
   "name": "python2"
  },
  "language_info": {
   "codemirror_mode": {
    "name": "ipython",
    "version": 2.0
   },
   "file_extension": ".py",
   "mimetype": "text/x-python",
   "name": "python",
   "nbconvert_exporter": "python",
   "pygments_lexer": "ipython2",
   "version": "2.7.6"
  }
 },
 "nbformat": 4,
 "nbformat_minor": 0
}