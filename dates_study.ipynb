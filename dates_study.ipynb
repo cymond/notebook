{
 "cells": [
  {
   "cell_type": "code",
   "execution_count": 1,
   "metadata": {
    "collapsed": true
   },
   "outputs": [
    {
     "name": "stdout",
     "output_type": "stream",
     "text": [
      "Today as datetime:  2017-07-05 00:00:00\nYesterday as datetime:  2017-07-04 00:00:00\nYesterday at 11pm:  2017-07-04 23:00:00\nNow as datetime:  2017-07-05 21:18:07.618834\nSametime yesterday as datetime:  2017-07-04 21:18:07.618834\n"
     ]
    }
   ],
   "source": [
    "import datetime\n",
    "today_asdate = datetime.date.today()\n",
    "today_asdatetime = datetime.datetime(today_asdate.year,today_asdate.month,today_asdate.day)\n",
    "yesterday_adatetime = today_asdatetime - datetime.timedelta(1)\n",
    "yesterday_at_11pm = yesterday_adatetime + datetime.timedelta(hours=23)\n",
    "now_adatetime = datetime.datetime.now()\n",
    "sametime_yesterday = now_adatetime - datetime.timedelta(1)\n",
    "\n",
    "#print(datetime.datetime.strftime(today_asdatetime))\n",
    "print(\"Today as datetime: \", today_asdatetime)\n",
    "print(\"Yesterday as datetime: \", yesterday_adatetime)\n",
    "print(\"Yesterday at 11pm: \", yesterday_at_11pm)\n",
    "\n",
    "print(\"Now as datetime: \", now_adatetime)\n",
    "print(\"Sametime yesterday as datetime: \", sametime_yesterday)"
   ]
  },
  {
   "cell_type": "code",
   "execution_count": 2,
   "metadata": {},
   "outputs": [
    {
     "name": "stdout",
     "output_type": "stream",
     "text": [
      "2017-07-04 09:00:00\n"
     ]
    }
   ],
   "source": [
    "yesterday_at_9pm = yesterday_adatetime + datetime.timedelta(hours=9)\n",
    "print(yesterday_at_9pm)"
   ]
  },
  {
   "cell_type": "code",
   "execution_count": 2,
   "metadata": {},
   "outputs": [
    {
     "name": "stdout",
     "output_type": "stream",
     "text": [
      "201707\n"
     ]
    }
   ],
   "source": [
    "import datetime\n",
    "today = datetime.date.today()\n",
    "print(today.strftime('%Y%m'))"
   ]
  },
  {
   "cell_type": "code",
   "execution_count": 12,
   "metadata": {},
   "outputs": [
    {
     "name": "stdout",
     "output_type": "stream",
     "text": [
      "Help on method_descriptor:\n\nstrftime(...)\n    format -> strftime() style string.\n\n"
     ]
    }
   ],
   "source": [
    "help(datetime.datetime.strftime)"
   ]
  },
  {
   "cell_type": "code",
   "execution_count": 17,
   "metadata": {},
   "outputs": [
    {
     "data": {
      "text/plain": [
       "False"
      ]
     },
     "execution_count": 17,
     "metadata": {},
     "output_type": "execute_result"
    }
   ],
   "source": [
    "str(211625) > str(221624)"
   ]
  },
  {
   "cell_type": "code",
   "execution_count": 3,
   "metadata": {},
   "outputs": [
    {
     "name": "stdout",
     "output_type": "stream",
     "text": [
      "2017-07-05 08:00:00\n"
     ]
    }
   ],
   "source": [
    "last_datetime_r23 = yesterday_at_9pm + datetime.timedelta(hours=23)\n",
    "print(last_datetime_r23)"
   ]
  },
  {
   "cell_type": "code",
   "execution_count": 7,
   "metadata": {
    "collapsed": true
   },
   "outputs": [],
   "source": [
    "yesterday_at_23 = datetime.datetime(yesterday_at_9pm.year,\n",
    "                                     yesterday_at_9pm.month,yesterday_at_9pm.day,\n",
    "                                     23)"
   ]
  },
  {
   "cell_type": "code",
   "execution_count": 8,
   "metadata": {},
   "outputs": [
    {
     "name": "stdout",
     "output_type": "stream",
     "text": [
      "2017-07-04 23:00:00\n"
     ]
    }
   ],
   "source": [
    "print(yesterday_at_23)"
   ]
  },
  {
   "cell_type": "code",
   "execution_count": 9,
   "metadata": {},
   "outputs": [
    {
     "name": "stdout",
     "output_type": "stream",
     "text": [
      "2017-07-04\n"
     ]
    }
   ],
   "source": [
    "print(yesterday_at_23.date())"
   ]
  },
  {
   "cell_type": "code",
   "execution_count": 14,
   "metadata": {},
   "outputs": [
    {
     "name": "stdout",
     "output_type": "stream",
     "text": [
      "2017-07-05\n"
     ]
    }
   ],
   "source": [
    "yesterday = datetime.datetime.today().date() - datetime.timedelta(1)\n",
    "print(yesterday)"
   ]
  },
  {
   "cell_type": "code",
   "execution_count": 3,
   "metadata": {},
   "outputs": [
    {
     "name": "stdout",
     "output_type": "stream",
     "text": [
      "2017-07-13\n"
     ]
    }
   ],
   "source": [
    "hours = today + datetime.timedelta(hours=22)\n",
    "print(hours)"
   ]
  },
  {
   "cell_type": "code",
   "execution_count": 4,
   "metadata": {},
   "outputs": [
    {
     "name": "stdout",
     "output_type": "stream",
     "text": [
      "2017-07-13 14:21:34.650866\n"
     ]
    }
   ],
   "source": [
    "nownow = datetime.datetime.now()\n",
    "print(nownow)"
   ]
  },
  {
   "cell_type": "code",
   "execution_count": 5,
   "metadata": {},
   "outputs": [
    {
     "name": "stdout",
     "output_type": "stream",
     "text": [
      "14\n"
     ]
    }
   ],
   "source": [
    "print(nownow.hour)"
   ]
  },
  {
   "cell_type": "code",
   "execution_count": null,
   "metadata": {},
   "outputs": [],
   "source": [
    ""
   ]
  }
 ],
 "metadata": {
  "kernelspec": {
   "display_name": "Python 2",
   "language": "python",
   "name": "python2"
  },
  "language_info": {
   "codemirror_mode": {
    "name": "ipython",
    "version": 2.0
   },
   "file_extension": ".py",
   "mimetype": "text/x-python",
   "name": "python",
   "nbconvert_exporter": "python",
   "pygments_lexer": "ipython2",
   "version": "2.7.6"
  }
 },
 "nbformat": 4,
 "nbformat_minor": 0
}