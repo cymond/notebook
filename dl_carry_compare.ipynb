{
 "cells": [
  {
   "cell_type": "code",
   "execution_count": 2,
   "metadata": {
    "collapsed": true
   },
   "outputs": [
    {
     "name": "stdout",
     "output_type": "stream",
     "text": [
      "last_after_filtered: 1990-04-18\nAFTER LAST 1990-04-18\nfirst:  1990-04-04\nlast:  1990-04-17\n------------- fitlered_current\n            PRICE  CARRY  CARRY_CONTRACT PRICE_CONTRACT\nDATETIME                                               \n1990-04-04  1.635  1.620        199006.0         199007\n1990-04-05  1.635  1.615        199006.0         199007\n1990-04-06  1.635  1.625        199006.0         199007\n1990-04-09  1.645  1.637        199006.0         199007\n1990-04-10   1.63  1.620        199006.0         199007\n1990-04-11   1.62  1.605        199006.0         199007\n1990-04-12  1.635  1.598        199006.0         199007\n1990-04-16  1.635  1.598        199006.0         199007\n1990-04-17  1.645  1.585        199006.0         199007\ncarry_df size 9\n--------------download_filtered\n             Open   High    Low  Last  Change  Settle  Volume  Open Interest\nDate                                                                        \n1990-04-04  1.630  1.650  1.595   NaN     NaN   1.635   141.0           82.0\n1990-04-05  1.625  1.650  1.625   NaN     NaN   1.635    69.0           98.0\n1990-04-06  1.640  1.645  1.625   NaN     NaN   1.635    28.0          119.0\n1990-04-09  1.620  1.645  1.615   NaN     NaN   1.645    35.0          110.0\n1990-04-10  1.635  1.635  1.630   NaN     NaN   1.630    16.0           95.0\n1990-04-11  1.630  1.630  1.620   NaN     NaN   1.620    11.0           97.0\n1990-04-12  1.625  1.635  1.623   NaN     NaN   1.635    42.0          134.0\n1990-04-16  1.630  1.640  1.630   NaN     NaN   1.635    15.0          141.0\n1990-04-17  1.640  1.655  1.640   NaN     NaN   1.645    41.0          154.0\n1990-04-18  1.640  1.653  1.640   NaN     NaN   1.645    60.0          194.0\ndldf size:  10\n"
     ]
    },
    {
     "data": {
      "text/plain": [
       "'\\nfor x in dl_df.index.values:\\n    print(x)\\nfor y in filtered_current_df.index.values:\\n    print(y)\\n'"
      ]
     },
     "execution_count": 2,
     "metadata": {},
     "output_type": "execute_result"
    }
   ],
   "source": [
    "import pandas as pd\n",
    "import datetime\n",
    "current_carry_file = \"data_control/GAS_US_carrydata.csv\"\n",
    "current_price_df = pd.read_csv(current_carry_file, index_col=[\"DATETIME\"],\n",
    "                                   dtype={\"PRICE\": str, \"PRICE_CONTRACT\": str})\n",
    "dl_file = \"quandl_history/GAS_US199007.csv\" \n",
    "dl_df = pd.read_csv(dl_file, index_col=['Date'])\n",
    "filtered_current_df = current_price_df[current_price_df['PRICE_CONTRACT'] == '199007'].copy()\n",
    "after_filtered_df = current_price_df[current_price_df['PRICE_CONTRACT'] > '199007'].copy()\n",
    "print(\"last_after_filtered:\", after_filtered_df[:1].index[0])\n",
    "#print(filtered_current_df.head(4))\n",
    "#print(filtered_current_df.tail(4))\n",
    "first = filtered_current_df[:1].index[0]\n",
    "last = filtered_current_df[-1:].index[0]\n",
    "\n",
    "or_last = datetime.datetime.strptime(last, \"%Y-%m-%d\") \n",
    "after_last = or_last + datetime.timedelta(days=1)\n",
    "after_last = str(after_last)[:10]\n",
    "print(\"AFTER LAST\", after_last)\n",
    "print(\"first: \", first)\n",
    "print(\"last: \", last)\n",
    "print(\"------------- fitlered_current\")\n",
    "print(filtered_current_df)\n",
    "print(\"carry_df size\", filtered_current_df.count(axis=1).count())\n",
    "dl_filtered = dl_df.loc[first:after_last].copy()\n",
    "print(\"--------------download_filtered\")\n",
    "print(dl_filtered)\n",
    "print(\"dldf size: \", dl_df.loc[first:after_last].count(axis=1).count())\n",
    "'''\n",
    "for x in dl_df.index.values:\n",
    "    print(x)\n",
    "for y in filtered_current_df.index.values:\n",
    "    print(y)\n",
    "'''"
   ]
  },
  {
   "cell_type": "code",
   "execution_count": 16,
   "metadata": {},
   "outputs": [
    {
     "name": "stdout",
     "output_type": "stream",
     "text": [
      "Help on function count in module pandas.core.frame:\n\ncount(self, axis=0, level=None, numeric_only=False)\n    Return Series with number of non-NA/null observations over requested\n    axis. Works with non-floating point data as well (detects NaN and None)\n    \n    Parameters\n    ----------\n    axis : {0 or 'index', 1 or 'columns'}, default 0\n        0 or 'index' for row-wise, 1 or 'columns' for column-wise\n    level : int or level name, default None\n        If the axis is a MultiIndex (hierarchical), count along a\n        particular level, collapsing into a DataFrame\n    numeric_only : boolean, default False\n        Include only float, int, boolean data\n    \n    Returns\n    -------\n    count : Series (or DataFrame if level specified)\n\n"
     ]
    }
   ],
   "source": [
    "help(pd.DataFrame.count)"
   ]
  },
  {
   "cell_type": "code",
   "execution_count": 30,
   "metadata": {},
   "outputs": [
    {
     "name": "stdout",
     "output_type": "stream",
     "text": [
      "2015-02-02\n"
     ]
    }
   ],
   "source": [
    "import datetime\n",
    "date = datetime.datetime.strptime('2015-02-03', \"%Y-%m-%d\")\n",
    "start_date = date - datetime.timedelta(days=1)\n",
    "print(str(start_date)[:10])"
   ]
  },
  {
   "cell_type": "code",
   "execution_count": 41,
   "metadata": {},
   "outputs": [
    {
     "data": {
      "text/plain": [
       "True"
      ]
     },
     "execution_count": 41,
     "metadata": {},
     "output_type": "execute_result"
    }
   ],
   "source": [
    "'201602' > '201601'"
   ]
  },
  {
   "cell_type": "code",
   "execution_count": null,
   "metadata": {},
   "outputs": [],
   "source": [
    ""
   ]
  }
 ],
 "metadata": {
  "kernelspec": {
   "display_name": "Python 2",
   "language": "python",
   "name": "python2"
  },
  "language_info": {
   "codemirror_mode": {
    "name": "ipython",
    "version": 2.0
   },
   "file_extension": ".py",
   "mimetype": "text/x-python",
   "name": "python",
   "nbconvert_exporter": "python",
   "pygments_lexer": "ipython2",
   "version": "2.7.6"
  }
 },
 "nbformat": 4,
 "nbformat_minor": 0
}