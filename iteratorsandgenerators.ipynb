{
 "cells": [
  {
   "cell_type": "code",
   "execution_count": 2,
   "metadata": {
    "collapsed": true
   },
   "outputs": [
    {
     "name": "stdout",
     "output_type": "stream",
     "text": [
      "root:x:0:0:root:/root:/bin/bash\ndaemon:x:1:1:daemon:/usr/sbin:/usr/sbin/nologin\nbin:x:2:2:bin:/bin:/usr/sbin/nologin\nsys:x:3:3:sys:/dev:/usr/sbin/nologin\nsync:x:4:65534:sync:/bin:/bin/sync\ngames:x:5:60:games:/usr/games:/usr/sbin/nologin\nman:x:6:12:man:/var/cache/man:/usr/sbin/nologin\nlp:x:7:7:lp:/var/spool/lpd:/usr/sbin/nologin\nmail:x:8:8:mail:/var/mail:/usr/sbin/nologin\nnews:x:9:9:news:/var/spool/news:/usr/sbin/nologin\nuucp:x:10:10:uucp:/var/spool/uucp:/usr/sbin/nologin\nproxy:x:13:13:proxy:/bin:/usr/sbin/nologin\nwww-data:x:33:33:www-data:/var/www:/usr/sbin/nologin\nbackup:x:34:34:backup:/var/backups:/usr/sbin/nologin\nlist:x:38:38:Mailing List Manager:/var/list:/usr/sbin/nologin\nirc:x:39:39:ircd:/var/run/ircd:/usr/sbin/nologin\ngnats:x:41:41:Gnats Bug-Reporting System (admin):/var/lib/gnats:/usr/sbin/nologin\nnobody:x:65534:65534:nobody:/nonexistent:/usr/sbin/nologin\nsystemd-timesync:x:100:102:systemd Time Synchronization,,,:/run/systemd:/bin/false\nsystemd-network:x:101:103:systemd Network Management,,,:/run/systemd/netif:/bin/false\nsystemd-resolve:x:102:104:systemd Resolver,,,:/run/systemd/resolve:/bin/false\nsystemd-bus-proxy:x:103:105:systemd Bus Proxy,,,:/run/systemd:/bin/false\nsyslog:x:104:108::/home/syslog:/bin/false\n_apt:x:105:65534::/nonexistent:/bin/false\nmessagebus:x:106:110::/var/run/dbus:/bin/false\nuuidd:x:107:111::/run/uuidd:/bin/false\nntp:x:108:114::/home/ntp:/bin/false\navahi-autoipd:x:109:117:Avahi autoip daemon,,,:/var/lib/avahi-autoipd:/bin/false\navahi:x:110:118:Avahi mDNS daemon,,,:/var/run/avahi-daemon:/bin/false\ndnsmasq:x:111:65534:dnsmasq,,,:/var/lib/misc:/bin/false\ncolord:x:112:121:colord colour management daemon,,,:/var/lib/colord:/bin/false\nspeech-dispatcher:x:113:29:Speech Dispatcher,,,:/var/run/speech-dispatcher:/bin/false\nhplip:x:114:7:HPLIP system user,,,:/var/run/hplip:/bin/false\nkernoops:x:115:65534:Kernel Oops Tracking Daemon,,,:/:/bin/false\npulse:x:116:122:PulseAudio daemon,,,:/var/run/pulse:/bin/false\nmdm:x:117:124:MDM Display Manager:/var/lib/mdm:/bin/false\nnm-openvpn:x:118:126:NetworkManager OpenVPN,,,:/var/lib/openvpn/chroot:/bin/false\nrtkit:x:119:127:RealtimeKit,,,:/proc:/bin/false\nsaned:x:120:128::/var/lib/saned:/bin/false\nusbmux:x:121:46:usbmux daemon,,,:/var/lib/usbmux:/bin/false\nlope:x:1000:1000:lope,,,:/home/lope:/bin/bash\n"
     ]
    }
   ],
   "source": [
    "with open('/etc/passwd') as f:\n",
    "    try:\n",
    "        while True:\n",
    "            line = next(f)\n",
    "            print(line, end='')\n",
    "    except StopIteration:\n",
    "        pass"
   ]
  },
  {
   "cell_type": "code",
   "execution_count": 3,
   "metadata": {},
   "outputs": [
    {
     "name": "stdout",
     "output_type": "stream",
     "text": [
      "4\n3\n2\n1\n0\n"
     ]
    }
   ],
   "source": [
    "import queue\n",
    "q = queue.LifoQueue()\n",
    "\n",
    "for i in range(5):\n",
    "    q.put(i)\n",
    "    \n",
    "while not q.empty():\n",
    "    print(q.get())"
   ]
  },
  {
   "cell_type": "code",
   "execution_count": 4,
   "metadata": {},
   "outputs": [
    {
     "name": "stdout",
     "output_type": "stream",
     "text": [
      "Help on class Queue in module queue:\n\nclass Queue(builtins.object)\n |  Create a queue object with a given maximum size.\n |  \n |  If maxsize is <= 0, the queue size is infinite.\n |  \n |  Methods defined here:\n |  \n |  __init__(self, maxsize=0)\n |      Initialize self.  See help(type(self)) for accurate signature.\n |  \n |  empty(self)\n |      Return True if the queue is empty, False otherwise (not reliable!).\n |      \n |      This method is likely to be removed at some point.  Use qsize() == 0\n |      as a direct substitute, but be aware that either approach risks a race\n |      condition where a queue can grow before the result of empty() or\n |      qsize() can be used.\n |      \n |      To create code that needs to wait for all queued tasks to be\n |      completed, the preferred technique is to use the join() method.\n |  \n |  full(self)\n |      Return True if the queue is full, False otherwise (not reliable!).\n |      \n |      This method is likely to be removed at some point.  Use qsize() >= n\n |      as a direct substitute, but be aware that either approach risks a race\n |      condition where a queue can shrink before the result of full() or\n |      qsize() can be used.\n |  \n |  get(self, block=True, timeout=None)\n |      Remove and return an item from the queue.\n |      \n |      If optional args 'block' is true and 'timeout' is None (the default),\n |      block if necessary until an item is available. If 'timeout' is\n |      a non-negative number, it blocks at most 'timeout' seconds and raises\n |      the Empty exception if no item was available within that time.\n |      Otherwise ('block' is false), return an item if one is immediately\n |      available, else raise the Empty exception ('timeout' is ignored\n |      in that case).\n |  \n |  get_nowait(self)\n |      Remove and return an item from the queue without blocking.\n |      \n |      Only get an item if one is immediately available. Otherwise\n |      raise the Empty exception.\n |  \n |  join(self)\n |      Blocks until all items in the Queue have been gotten and processed.\n |      \n |      The count of unfinished tasks goes up whenever an item is added to the\n |      queue. The count goes down whenever a consumer thread calls task_done()\n |      to indicate the item was retrieved and all work on it is complete.\n |      \n |      When the count of unfinished tasks drops to zero, join() unblocks.\n |  \n |  put(self, item, block=True, timeout=None)\n |      Put an item into the queue.\n |      \n |      If optional args 'block' is true and 'timeout' is None (the default),\n |      block if necessary until a free slot is available. If 'timeout' is\n |      a non-negative number, it blocks at most 'timeout' seconds and raises\n |      the Full exception if no free slot was available within that time.\n |      Otherwise ('block' is false), put an item on the queue if a free slot\n |      is immediately available, else raise the Full exception ('timeout'\n |      is ignored in that case).\n |  \n |  put_nowait(self, item)\n |      Put an item into the queue without blocking.\n |      \n |      Only enqueue the item if a free slot is immediately available.\n |      Otherwise raise the Full exception.\n |  \n |  qsize(self)\n |      Return the approximate size of the queue (not reliable!).\n |  \n |  task_done(self)\n |      Indicate that a formerly enqueued task is complete.\n |      \n |      Used by Queue consumer threads.  For each get() used to fetch a task,\n |      a subsequent call to task_done() tells the queue that the processing\n |      on the task is complete.\n |      \n |      If a join() is currently blocking, it will resume when all items\n |      have been processed (meaning that a task_done() call was received\n |      for every item that had been put() into the queue).\n |      \n |      Raises a ValueError if called more times than there were items\n |      placed in the queue.\n |  \n |  ----------------------------------------------------------------------\n |  Data descriptors defined here:\n |  \n |  __dict__\n |      dictionary for instance variables (if defined)\n |  \n |  __weakref__\n |      list of weak references to the object (if defined)\n\n"
     ]
    }
   ],
   "source": [
    "help(queue.Queue)"
   ]
  },
  {
   "cell_type": "code",
   "execution_count": null,
   "metadata": {},
   "outputs": [],
   "source": [
    ""
   ]
  }
 ],
 "metadata": {
  "kernelspec": {
   "display_name": "Python 2",
   "language": "python",
   "name": "python2"
  },
  "language_info": {
   "codemirror_mode": {
    "name": "ipython",
    "version": 2.0
   },
   "file_extension": ".py",
   "mimetype": "text/x-python",
   "name": "python",
   "nbconvert_exporter": "python",
   "pygments_lexer": "ipython2",
   "version": "2.7.6"
  }
 },
 "nbformat": 4,
 "nbformat_minor": 0
}